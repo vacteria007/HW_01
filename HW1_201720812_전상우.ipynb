{
  "cells": [
    {
      "cell_type": "markdown",
      "metadata": {
        "id": "view-in-github",
        "colab_type": "text"
      },
      "source": [
        "<a href=\"https://colab.research.google.com/github/vacteria007/HW_01/blob/main/HW1_201720812_%EC%A0%84%EC%83%81%EC%9A%B0.ipynb\" target=\"_parent\"><img src=\"https://colab.research.google.com/assets/colab-badge.svg\" alt=\"Open In Colab\"/></a>"
      ]
    },
    {
      "cell_type": "markdown",
      "source": [
        "# HW1 :: Exploratory Data Analysis (EDA)"
      ],
      "metadata": {
        "id": "_vscAqiXMEgX"
      }
    },
    {
      "cell_type": "markdown",
      "source": [
        "## 과제 목표\n",
        "-\t데이터의 형식에 대해서 이해하고 이를 변환할 수 있다. \n",
        "  -\t특히, numpy 와 pandas 라이브러리에 기반한 데이터 처리를 할 수 있다. \n",
        "-\t결측값, 중복값, 이상치를 처리하고 다양한 시각화를 할 수 있다.\n",
        "-\t기본적인 Exploratory Data Analysis를 수행할 수 있다. \n",
        "-\t데이터는 동봉된 train.csv을 이용한다. \n"
      ],
      "metadata": {
        "id": "9rhE6YmbQZ9G"
      }
    },
    {
      "cell_type": "markdown",
      "source": [
        "## 코랩과 구글 드라이브 연동하기"
      ],
      "metadata": {
        "id": "-_WymqIfMTsd"
      }
    },
    {
      "cell_type": "code",
      "source": [
        "from google.colab import drive\n",
        "drive.mount('/content/drive')"
      ],
      "metadata": {
        "id": "48p73pSOYiyn",
        "colab": {
          "base_uri": "https://localhost:8080/"
        },
        "outputId": "5625c0ee-f6d9-4a30-d2a6-2f58951db1ba"
      },
      "execution_count": 1,
      "outputs": [
        {
          "output_type": "stream",
          "name": "stdout",
          "text": [
            "Mounted at /content/drive\n"
          ]
        }
      ]
    },
    {
      "cell_type": "code",
      "source": [
        "# pwd 명령어로 현재 위치 확인\n",
        "!pwd"
      ],
      "metadata": {
        "id": "MGWUpVCuMSxU",
        "colab": {
          "base_uri": "https://localhost:8080/"
        },
        "outputId": "fd1593a5-11ae-4587-b69a-a299e83c5835"
      },
      "execution_count": 2,
      "outputs": [
        {
          "output_type": "stream",
          "name": "stdout",
          "text": [
            "/content\n"
          ]
        }
      ]
    },
    {
      "cell_type": "code",
      "source": [
        "!ls # 현재 위치에 있는 디렉토리와 파일 목록 확인"
      ],
      "metadata": {
        "id": "zCJor27DMY3z",
        "colab": {
          "base_uri": "https://localhost:8080/"
        },
        "outputId": "7d3ccd91-b8fc-4cf5-d877-4c8ac0927a68"
      },
      "execution_count": 3,
      "outputs": [
        {
          "output_type": "stream",
          "name": "stdout",
          "text": [
            "drive  sample_data\n"
          ]
        }
      ]
    },
    {
      "cell_type": "code",
      "source": [
        "cd /content/drive/MyDrive/5학년 기계학습 코랩/과제1 \n"
      ],
      "metadata": {
        "id": "kjD9DAY4Ymlx",
        "colab": {
          "base_uri": "https://localhost:8080/"
        },
        "outputId": "ab813f6a-95dc-4cab-a880-6c3f84b9a473"
      },
      "execution_count": 4,
      "outputs": [
        {
          "output_type": "stream",
          "name": "stdout",
          "text": [
            "/content/drive/MyDrive/5학년 기계학습 코랩/과제1\n"
          ]
        }
      ]
    },
    {
      "cell_type": "markdown",
      "source": [
        "## 데이터 불러오기 & 살펴보기"
      ],
      "metadata": {
        "id": "MxBJDYqwVZI0"
      }
    },
    {
      "cell_type": "markdown",
      "metadata": {
        "id": "0dDszicIVXwh"
      },
      "source": [
        "※본 과제는 [Loan Default prediction dataset] 데이터에 기반하여 출제 되었습니다.\n",
        "\n",
        "(https://www.kaggle.com/datasets/hemanthsai7/loandefault)\n",
        "\n"
      ]
    },
    {
      "cell_type": "markdown",
      "source": [
        "이 데이터는 자금 지원액, 잔액, 대출금 등 다양한 개인의 속성을 살펴, 대출 연체자가 될 지 예측하는 문제에 활용될 수 있습니다.  \n",
        "원래의 자료에서는 Train과 Test Dataset으로 나뉘어, 총 35개의 column과 96,000여개의 observation으로 구성되어 있습니다.   \n",
        "이번 과제에서는 Train data만을 사용하여 EDA를 해봅시다. "
      ],
      "metadata": {
        "id": "DhXCfkGAJn_t"
      }
    },
    {
      "cell_type": "markdown",
      "source": [
        "※ 데이터에 대한 자세한 설명은 HW1 word 파일을 확인해주세요"
      ],
      "metadata": {
        "id": "QdtaWx0WM6qJ"
      }
    },
    {
      "cell_type": "code",
      "source": [
        "# 이번 과제는 numpy, pandas와 같은 데이터를 불러내고 확인, 처리, \n",
        "# 수정 등을 쉽게 할 수 있는 library를 사용합니다.\n",
        "# 그래프를 그릴 때에는 matplotlib, seaborn library를 사용합니다.\n",
        "\n",
        "# 모듈 이름 뒤에 as를 쓰고 별칭을 적으면 해당 별칭으로 모듈을 호출할 수 있습니다.\n",
        "# 모듈명: numpy, 별칭: np => numpy를 쓰는 대신 np를 써서 numpy 호출\n",
        "# 모듈명: pandas, 별칭: pd => pandas를 쓰는 대신 pd를 써서 pandas 호출\n",
        "import numpy as np\n",
        "import pandas as pd\n",
        "import matplotlib.pyplot as plt\n",
        "import seaborn as sns"
      ],
      "metadata": {
        "id": "0YqqOdFuM_EV"
      },
      "execution_count": 5,
      "outputs": []
    },
    {
      "cell_type": "code",
      "source": [
        "# './'는 이 노트북 파일의 현재 위치를 뜻 합니다.\n",
        "path = './train.csv'\n",
        "\n",
        "# pandas의 read_csv 함수를 사용하여 csv파일을 DataFrame으로 불러옵니다.\n",
        "data = pd.read_csv(path)"
      ],
      "metadata": {
        "id": "CJ0nEgMwNN4R"
      },
      "execution_count": 6,
      "outputs": []
    },
    {
      "cell_type": "code",
      "source": [
        "# DataFrame 혹은 Series와 같은 자료구조에 shape함수를 통해 데이터의 크기와 \n",
        "# 변수의 갯수를 대략적으로 알 수 있습니다.\n",
        "\n",
        "data.shape # (67463, 35) => 67463 개의 row(행), 35 개의 column(열)을 가진 데이터"
      ],
      "metadata": {
        "id": "yg7kPjk1NTWq",
        "colab": {
          "base_uri": "https://localhost:8080/"
        },
        "outputId": "9483b08c-c3c2-408f-a97b-d719a58f37b9"
      },
      "execution_count": 7,
      "outputs": [
        {
          "output_type": "execute_result",
          "data": {
            "text/plain": [
              "(67463, 35)"
            ]
          },
          "metadata": {},
          "execution_count": 7
        }
      ]
    },
    {
      "cell_type": "code",
      "source": [
        "# head() 함수를 이용하여 해당 데이터의 맨 위 5개의 원소를 볼 수 있습니다.\n",
        "# 더 많은 행을 보고 싶다면 ()안에 숫자를 넣어주시면 됩니다.\n",
        "\n",
        "data.head()"
      ],
      "metadata": {
        "id": "B2fIJfCfOGQd",
        "colab": {
          "base_uri": "https://localhost:8080/",
          "height": 351
        },
        "outputId": "e4ca5cd4-a3f8-4437-bcf3-41409f8a169a"
      },
      "execution_count": 8,
      "outputs": [
        {
          "output_type": "execute_result",
          "data": {
            "text/plain": [
              "         ID  Loan Amount  Funded Amount  Funded Amount Investor  Term  \\\n",
              "0  65087372        10000          32236             12329.36286    59   \n",
              "1   1450153         3609          11940             12191.99692    59   \n",
              "2   1969101        28276           9311             21603.22455    59   \n",
              "3   6651430        11170           6954             17877.15585    59   \n",
              "4  14354669        16890          13226             13539.92667    59   \n",
              "\n",
              "  Batch Enrolled  Interest Rate Grade Sub Grade Employment Duration  ...  \\\n",
              "0     BAT2522922      11.135007     B        C4            MORTGAGE  ...   \n",
              "1     BAT1586599      12.237563     C        D3                RENT  ...   \n",
              "2     BAT2136391      12.545884     F        D4            MORTGAGE  ...   \n",
              "3     BAT2428731      16.731201     C        C3            MORTGAGE  ...   \n",
              "4     BAT5341619      15.008300     C        D4            MORTGAGE  ...   \n",
              "\n",
              "    Recoveries Collection Recovery Fee Collection 12 months Medical  \\\n",
              "0     2.498291                0.793724                            0   \n",
              "1     2.377215                0.974821                            0   \n",
              "2     4.316277                1.020075                            0   \n",
              "3     0.107020                0.749971                            0   \n",
              "4  1294.818751                0.368953                            0   \n",
              "\n",
              "  Application Type  Last week Pay  Accounts Delinquent  \\\n",
              "0       INDIVIDUAL             49                    0   \n",
              "1       INDIVIDUAL            109                    0   \n",
              "2       INDIVIDUAL             66                    0   \n",
              "3       INDIVIDUAL             39                    0   \n",
              "4       INDIVIDUAL             18                    0   \n",
              "\n",
              "   Total Collection Amount  Total Current Balance  \\\n",
              "0                       31                 311301   \n",
              "1                       53                 182610   \n",
              "2                       34                  89801   \n",
              "3                       40                   9189   \n",
              "4                      430                 126029   \n",
              "\n",
              "   Total Revolving Credit Limit  Loan Status  \n",
              "0                          6619            0  \n",
              "1                         20885            0  \n",
              "2                         26155            0  \n",
              "3                         60214            0  \n",
              "4                         22579            0  \n",
              "\n",
              "[5 rows x 35 columns]"
            ],
            "text/html": [
              "\n",
              "  <div id=\"df-c8e112a0-a108-4839-9c98-05e0b4d5d22a\">\n",
              "    <div class=\"colab-df-container\">\n",
              "      <div>\n",
              "<style scoped>\n",
              "    .dataframe tbody tr th:only-of-type {\n",
              "        vertical-align: middle;\n",
              "    }\n",
              "\n",
              "    .dataframe tbody tr th {\n",
              "        vertical-align: top;\n",
              "    }\n",
              "\n",
              "    .dataframe thead th {\n",
              "        text-align: right;\n",
              "    }\n",
              "</style>\n",
              "<table border=\"1\" class=\"dataframe\">\n",
              "  <thead>\n",
              "    <tr style=\"text-align: right;\">\n",
              "      <th></th>\n",
              "      <th>ID</th>\n",
              "      <th>Loan Amount</th>\n",
              "      <th>Funded Amount</th>\n",
              "      <th>Funded Amount Investor</th>\n",
              "      <th>Term</th>\n",
              "      <th>Batch Enrolled</th>\n",
              "      <th>Interest Rate</th>\n",
              "      <th>Grade</th>\n",
              "      <th>Sub Grade</th>\n",
              "      <th>Employment Duration</th>\n",
              "      <th>...</th>\n",
              "      <th>Recoveries</th>\n",
              "      <th>Collection Recovery Fee</th>\n",
              "      <th>Collection 12 months Medical</th>\n",
              "      <th>Application Type</th>\n",
              "      <th>Last week Pay</th>\n",
              "      <th>Accounts Delinquent</th>\n",
              "      <th>Total Collection Amount</th>\n",
              "      <th>Total Current Balance</th>\n",
              "      <th>Total Revolving Credit Limit</th>\n",
              "      <th>Loan Status</th>\n",
              "    </tr>\n",
              "  </thead>\n",
              "  <tbody>\n",
              "    <tr>\n",
              "      <th>0</th>\n",
              "      <td>65087372</td>\n",
              "      <td>10000</td>\n",
              "      <td>32236</td>\n",
              "      <td>12329.36286</td>\n",
              "      <td>59</td>\n",
              "      <td>BAT2522922</td>\n",
              "      <td>11.135007</td>\n",
              "      <td>B</td>\n",
              "      <td>C4</td>\n",
              "      <td>MORTGAGE</td>\n",
              "      <td>...</td>\n",
              "      <td>2.498291</td>\n",
              "      <td>0.793724</td>\n",
              "      <td>0</td>\n",
              "      <td>INDIVIDUAL</td>\n",
              "      <td>49</td>\n",
              "      <td>0</td>\n",
              "      <td>31</td>\n",
              "      <td>311301</td>\n",
              "      <td>6619</td>\n",
              "      <td>0</td>\n",
              "    </tr>\n",
              "    <tr>\n",
              "      <th>1</th>\n",
              "      <td>1450153</td>\n",
              "      <td>3609</td>\n",
              "      <td>11940</td>\n",
              "      <td>12191.99692</td>\n",
              "      <td>59</td>\n",
              "      <td>BAT1586599</td>\n",
              "      <td>12.237563</td>\n",
              "      <td>C</td>\n",
              "      <td>D3</td>\n",
              "      <td>RENT</td>\n",
              "      <td>...</td>\n",
              "      <td>2.377215</td>\n",
              "      <td>0.974821</td>\n",
              "      <td>0</td>\n",
              "      <td>INDIVIDUAL</td>\n",
              "      <td>109</td>\n",
              "      <td>0</td>\n",
              "      <td>53</td>\n",
              "      <td>182610</td>\n",
              "      <td>20885</td>\n",
              "      <td>0</td>\n",
              "    </tr>\n",
              "    <tr>\n",
              "      <th>2</th>\n",
              "      <td>1969101</td>\n",
              "      <td>28276</td>\n",
              "      <td>9311</td>\n",
              "      <td>21603.22455</td>\n",
              "      <td>59</td>\n",
              "      <td>BAT2136391</td>\n",
              "      <td>12.545884</td>\n",
              "      <td>F</td>\n",
              "      <td>D4</td>\n",
              "      <td>MORTGAGE</td>\n",
              "      <td>...</td>\n",
              "      <td>4.316277</td>\n",
              "      <td>1.020075</td>\n",
              "      <td>0</td>\n",
              "      <td>INDIVIDUAL</td>\n",
              "      <td>66</td>\n",
              "      <td>0</td>\n",
              "      <td>34</td>\n",
              "      <td>89801</td>\n",
              "      <td>26155</td>\n",
              "      <td>0</td>\n",
              "    </tr>\n",
              "    <tr>\n",
              "      <th>3</th>\n",
              "      <td>6651430</td>\n",
              "      <td>11170</td>\n",
              "      <td>6954</td>\n",
              "      <td>17877.15585</td>\n",
              "      <td>59</td>\n",
              "      <td>BAT2428731</td>\n",
              "      <td>16.731201</td>\n",
              "      <td>C</td>\n",
              "      <td>C3</td>\n",
              "      <td>MORTGAGE</td>\n",
              "      <td>...</td>\n",
              "      <td>0.107020</td>\n",
              "      <td>0.749971</td>\n",
              "      <td>0</td>\n",
              "      <td>INDIVIDUAL</td>\n",
              "      <td>39</td>\n",
              "      <td>0</td>\n",
              "      <td>40</td>\n",
              "      <td>9189</td>\n",
              "      <td>60214</td>\n",
              "      <td>0</td>\n",
              "    </tr>\n",
              "    <tr>\n",
              "      <th>4</th>\n",
              "      <td>14354669</td>\n",
              "      <td>16890</td>\n",
              "      <td>13226</td>\n",
              "      <td>13539.92667</td>\n",
              "      <td>59</td>\n",
              "      <td>BAT5341619</td>\n",
              "      <td>15.008300</td>\n",
              "      <td>C</td>\n",
              "      <td>D4</td>\n",
              "      <td>MORTGAGE</td>\n",
              "      <td>...</td>\n",
              "      <td>1294.818751</td>\n",
              "      <td>0.368953</td>\n",
              "      <td>0</td>\n",
              "      <td>INDIVIDUAL</td>\n",
              "      <td>18</td>\n",
              "      <td>0</td>\n",
              "      <td>430</td>\n",
              "      <td>126029</td>\n",
              "      <td>22579</td>\n",
              "      <td>0</td>\n",
              "    </tr>\n",
              "  </tbody>\n",
              "</table>\n",
              "<p>5 rows × 35 columns</p>\n",
              "</div>\n",
              "      <button class=\"colab-df-convert\" onclick=\"convertToInteractive('df-c8e112a0-a108-4839-9c98-05e0b4d5d22a')\"\n",
              "              title=\"Convert this dataframe to an interactive table.\"\n",
              "              style=\"display:none;\">\n",
              "        \n",
              "  <svg xmlns=\"http://www.w3.org/2000/svg\" height=\"24px\"viewBox=\"0 0 24 24\"\n",
              "       width=\"24px\">\n",
              "    <path d=\"M0 0h24v24H0V0z\" fill=\"none\"/>\n",
              "    <path d=\"M18.56 5.44l.94 2.06.94-2.06 2.06-.94-2.06-.94-.94-2.06-.94 2.06-2.06.94zm-11 1L8.5 8.5l.94-2.06 2.06-.94-2.06-.94L8.5 2.5l-.94 2.06-2.06.94zm10 10l.94 2.06.94-2.06 2.06-.94-2.06-.94-.94-2.06-.94 2.06-2.06.94z\"/><path d=\"M17.41 7.96l-1.37-1.37c-.4-.4-.92-.59-1.43-.59-.52 0-1.04.2-1.43.59L10.3 9.45l-7.72 7.72c-.78.78-.78 2.05 0 2.83L4 21.41c.39.39.9.59 1.41.59.51 0 1.02-.2 1.41-.59l7.78-7.78 2.81-2.81c.8-.78.8-2.07 0-2.86zM5.41 20L4 18.59l7.72-7.72 1.47 1.35L5.41 20z\"/>\n",
              "  </svg>\n",
              "      </button>\n",
              "      \n",
              "  <style>\n",
              "    .colab-df-container {\n",
              "      display:flex;\n",
              "      flex-wrap:wrap;\n",
              "      gap: 12px;\n",
              "    }\n",
              "\n",
              "    .colab-df-convert {\n",
              "      background-color: #E8F0FE;\n",
              "      border: none;\n",
              "      border-radius: 50%;\n",
              "      cursor: pointer;\n",
              "      display: none;\n",
              "      fill: #1967D2;\n",
              "      height: 32px;\n",
              "      padding: 0 0 0 0;\n",
              "      width: 32px;\n",
              "    }\n",
              "\n",
              "    .colab-df-convert:hover {\n",
              "      background-color: #E2EBFA;\n",
              "      box-shadow: 0px 1px 2px rgba(60, 64, 67, 0.3), 0px 1px 3px 1px rgba(60, 64, 67, 0.15);\n",
              "      fill: #174EA6;\n",
              "    }\n",
              "\n",
              "    [theme=dark] .colab-df-convert {\n",
              "      background-color: #3B4455;\n",
              "      fill: #D2E3FC;\n",
              "    }\n",
              "\n",
              "    [theme=dark] .colab-df-convert:hover {\n",
              "      background-color: #434B5C;\n",
              "      box-shadow: 0px 1px 3px 1px rgba(0, 0, 0, 0.15);\n",
              "      filter: drop-shadow(0px 1px 2px rgba(0, 0, 0, 0.3));\n",
              "      fill: #FFFFFF;\n",
              "    }\n",
              "  </style>\n",
              "\n",
              "      <script>\n",
              "        const buttonEl =\n",
              "          document.querySelector('#df-c8e112a0-a108-4839-9c98-05e0b4d5d22a button.colab-df-convert');\n",
              "        buttonEl.style.display =\n",
              "          google.colab.kernel.accessAllowed ? 'block' : 'none';\n",
              "\n",
              "        async function convertToInteractive(key) {\n",
              "          const element = document.querySelector('#df-c8e112a0-a108-4839-9c98-05e0b4d5d22a');\n",
              "          const dataTable =\n",
              "            await google.colab.kernel.invokeFunction('convertToInteractive',\n",
              "                                                     [key], {});\n",
              "          if (!dataTable) return;\n",
              "\n",
              "          const docLinkHtml = 'Like what you see? Visit the ' +\n",
              "            '<a target=\"_blank\" href=https://colab.research.google.com/notebooks/data_table.ipynb>data table notebook</a>'\n",
              "            + ' to learn more about interactive tables.';\n",
              "          element.innerHTML = '';\n",
              "          dataTable['output_type'] = 'display_data';\n",
              "          await google.colab.output.renderOutput(dataTable, element);\n",
              "          const docLink = document.createElement('div');\n",
              "          docLink.innerHTML = docLinkHtml;\n",
              "          element.appendChild(docLink);\n",
              "        }\n",
              "      </script>\n",
              "    </div>\n",
              "  </div>\n",
              "  "
            ]
          },
          "metadata": {},
          "execution_count": 8
        }
      ]
    },
    {
      "cell_type": "code",
      "source": [
        "# tail() 함수를 이용하여 해당 데이터의 맨 뒤 5개의 원소를 볼 수 있습니다.\n",
        "# 더 많은 행을 보고 싶다면 ()안에 숫자를 넣어주시면 됩니다.\n",
        "\n",
        "data.tail()"
      ],
      "metadata": {
        "id": "4FdL-RvCOI5H",
        "colab": {
          "base_uri": "https://localhost:8080/",
          "height": 351
        },
        "outputId": "35354156-5897-4172-fb18-6ed72e7e8825"
      },
      "execution_count": 9,
      "outputs": [
        {
          "output_type": "execute_result",
          "data": {
            "text/plain": [
              "             ID  Loan Amount  Funded Amount  Funded Amount Investor  Term  \\\n",
              "67458  16164945        13601           6848             13175.28583    59   \n",
              "67459  35182714         8323          11046             15637.46301    59   \n",
              "67460  16435904        15897          32921             12329.45775    59   \n",
              "67461   5300325        16567           4975             21353.68465    59   \n",
              "67462  65443173        15353          29875             14207.44860    59   \n",
              "\n",
              "      Batch Enrolled  Interest Rate Grade Sub Grade Employment Duration  ...  \\\n",
              "67458     BAT3193689       9.408858     C        A4            MORTGAGE  ...   \n",
              "67459     BAT1780517       9.972104     C        B3                RENT  ...   \n",
              "67460     BAT1761981      19.650943     A        F3            MORTGAGE  ...   \n",
              "67461     BAT2333412      13.169095     D        E3                 OWN  ...   \n",
              "67462     BAT1930365      16.034631     B        D1            MORTGAGE  ...   \n",
              "\n",
              "       Recoveries Collection Recovery Fee Collection 12 months Medical  \\\n",
              "67458  564.614852                0.865230                            0   \n",
              "67459    2.015494                1.403368                            0   \n",
              "67460    5.673092                1.607093                            0   \n",
              "67461    1.157454                0.207608                            0   \n",
              "67462    1.856480                0.366386                            0   \n",
              "\n",
              "      Application Type  Last week Pay  Accounts Delinquent  \\\n",
              "67458       INDIVIDUAL             69                    0   \n",
              "67459       INDIVIDUAL             14                    0   \n",
              "67460       INDIVIDUAL            137                    0   \n",
              "67461       INDIVIDUAL             73                    0   \n",
              "67462       INDIVIDUAL             54                    0   \n",
              "\n",
              "       Total Collection Amount  Total Current Balance  \\\n",
              "67458                       48                 181775   \n",
              "67459                       37                  22692   \n",
              "67460                       17                 176857   \n",
              "67461                       61                 361339   \n",
              "67462                       47                 196960   \n",
              "\n",
              "       Total Revolving Credit Limit  Loan Status  \n",
              "67458                         34301            1  \n",
              "67459                          8714            0  \n",
              "67460                         42330            0  \n",
              "67461                         39075            0  \n",
              "67462                         66060            0  \n",
              "\n",
              "[5 rows x 35 columns]"
            ],
            "text/html": [
              "\n",
              "  <div id=\"df-33100b73-6538-4780-8176-4c44c7266192\">\n",
              "    <div class=\"colab-df-container\">\n",
              "      <div>\n",
              "<style scoped>\n",
              "    .dataframe tbody tr th:only-of-type {\n",
              "        vertical-align: middle;\n",
              "    }\n",
              "\n",
              "    .dataframe tbody tr th {\n",
              "        vertical-align: top;\n",
              "    }\n",
              "\n",
              "    .dataframe thead th {\n",
              "        text-align: right;\n",
              "    }\n",
              "</style>\n",
              "<table border=\"1\" class=\"dataframe\">\n",
              "  <thead>\n",
              "    <tr style=\"text-align: right;\">\n",
              "      <th></th>\n",
              "      <th>ID</th>\n",
              "      <th>Loan Amount</th>\n",
              "      <th>Funded Amount</th>\n",
              "      <th>Funded Amount Investor</th>\n",
              "      <th>Term</th>\n",
              "      <th>Batch Enrolled</th>\n",
              "      <th>Interest Rate</th>\n",
              "      <th>Grade</th>\n",
              "      <th>Sub Grade</th>\n",
              "      <th>Employment Duration</th>\n",
              "      <th>...</th>\n",
              "      <th>Recoveries</th>\n",
              "      <th>Collection Recovery Fee</th>\n",
              "      <th>Collection 12 months Medical</th>\n",
              "      <th>Application Type</th>\n",
              "      <th>Last week Pay</th>\n",
              "      <th>Accounts Delinquent</th>\n",
              "      <th>Total Collection Amount</th>\n",
              "      <th>Total Current Balance</th>\n",
              "      <th>Total Revolving Credit Limit</th>\n",
              "      <th>Loan Status</th>\n",
              "    </tr>\n",
              "  </thead>\n",
              "  <tbody>\n",
              "    <tr>\n",
              "      <th>67458</th>\n",
              "      <td>16164945</td>\n",
              "      <td>13601</td>\n",
              "      <td>6848</td>\n",
              "      <td>13175.28583</td>\n",
              "      <td>59</td>\n",
              "      <td>BAT3193689</td>\n",
              "      <td>9.408858</td>\n",
              "      <td>C</td>\n",
              "      <td>A4</td>\n",
              "      <td>MORTGAGE</td>\n",
              "      <td>...</td>\n",
              "      <td>564.614852</td>\n",
              "      <td>0.865230</td>\n",
              "      <td>0</td>\n",
              "      <td>INDIVIDUAL</td>\n",
              "      <td>69</td>\n",
              "      <td>0</td>\n",
              "      <td>48</td>\n",
              "      <td>181775</td>\n",
              "      <td>34301</td>\n",
              "      <td>1</td>\n",
              "    </tr>\n",
              "    <tr>\n",
              "      <th>67459</th>\n",
              "      <td>35182714</td>\n",
              "      <td>8323</td>\n",
              "      <td>11046</td>\n",
              "      <td>15637.46301</td>\n",
              "      <td>59</td>\n",
              "      <td>BAT1780517</td>\n",
              "      <td>9.972104</td>\n",
              "      <td>C</td>\n",
              "      <td>B3</td>\n",
              "      <td>RENT</td>\n",
              "      <td>...</td>\n",
              "      <td>2.015494</td>\n",
              "      <td>1.403368</td>\n",
              "      <td>0</td>\n",
              "      <td>INDIVIDUAL</td>\n",
              "      <td>14</td>\n",
              "      <td>0</td>\n",
              "      <td>37</td>\n",
              "      <td>22692</td>\n",
              "      <td>8714</td>\n",
              "      <td>0</td>\n",
              "    </tr>\n",
              "    <tr>\n",
              "      <th>67460</th>\n",
              "      <td>16435904</td>\n",
              "      <td>15897</td>\n",
              "      <td>32921</td>\n",
              "      <td>12329.45775</td>\n",
              "      <td>59</td>\n",
              "      <td>BAT1761981</td>\n",
              "      <td>19.650943</td>\n",
              "      <td>A</td>\n",
              "      <td>F3</td>\n",
              "      <td>MORTGAGE</td>\n",
              "      <td>...</td>\n",
              "      <td>5.673092</td>\n",
              "      <td>1.607093</td>\n",
              "      <td>0</td>\n",
              "      <td>INDIVIDUAL</td>\n",
              "      <td>137</td>\n",
              "      <td>0</td>\n",
              "      <td>17</td>\n",
              "      <td>176857</td>\n",
              "      <td>42330</td>\n",
              "      <td>0</td>\n",
              "    </tr>\n",
              "    <tr>\n",
              "      <th>67461</th>\n",
              "      <td>5300325</td>\n",
              "      <td>16567</td>\n",
              "      <td>4975</td>\n",
              "      <td>21353.68465</td>\n",
              "      <td>59</td>\n",
              "      <td>BAT2333412</td>\n",
              "      <td>13.169095</td>\n",
              "      <td>D</td>\n",
              "      <td>E3</td>\n",
              "      <td>OWN</td>\n",
              "      <td>...</td>\n",
              "      <td>1.157454</td>\n",
              "      <td>0.207608</td>\n",
              "      <td>0</td>\n",
              "      <td>INDIVIDUAL</td>\n",
              "      <td>73</td>\n",
              "      <td>0</td>\n",
              "      <td>61</td>\n",
              "      <td>361339</td>\n",
              "      <td>39075</td>\n",
              "      <td>0</td>\n",
              "    </tr>\n",
              "    <tr>\n",
              "      <th>67462</th>\n",
              "      <td>65443173</td>\n",
              "      <td>15353</td>\n",
              "      <td>29875</td>\n",
              "      <td>14207.44860</td>\n",
              "      <td>59</td>\n",
              "      <td>BAT1930365</td>\n",
              "      <td>16.034631</td>\n",
              "      <td>B</td>\n",
              "      <td>D1</td>\n",
              "      <td>MORTGAGE</td>\n",
              "      <td>...</td>\n",
              "      <td>1.856480</td>\n",
              "      <td>0.366386</td>\n",
              "      <td>0</td>\n",
              "      <td>INDIVIDUAL</td>\n",
              "      <td>54</td>\n",
              "      <td>0</td>\n",
              "      <td>47</td>\n",
              "      <td>196960</td>\n",
              "      <td>66060</td>\n",
              "      <td>0</td>\n",
              "    </tr>\n",
              "  </tbody>\n",
              "</table>\n",
              "<p>5 rows × 35 columns</p>\n",
              "</div>\n",
              "      <button class=\"colab-df-convert\" onclick=\"convertToInteractive('df-33100b73-6538-4780-8176-4c44c7266192')\"\n",
              "              title=\"Convert this dataframe to an interactive table.\"\n",
              "              style=\"display:none;\">\n",
              "        \n",
              "  <svg xmlns=\"http://www.w3.org/2000/svg\" height=\"24px\"viewBox=\"0 0 24 24\"\n",
              "       width=\"24px\">\n",
              "    <path d=\"M0 0h24v24H0V0z\" fill=\"none\"/>\n",
              "    <path d=\"M18.56 5.44l.94 2.06.94-2.06 2.06-.94-2.06-.94-.94-2.06-.94 2.06-2.06.94zm-11 1L8.5 8.5l.94-2.06 2.06-.94-2.06-.94L8.5 2.5l-.94 2.06-2.06.94zm10 10l.94 2.06.94-2.06 2.06-.94-2.06-.94-.94-2.06-.94 2.06-2.06.94z\"/><path d=\"M17.41 7.96l-1.37-1.37c-.4-.4-.92-.59-1.43-.59-.52 0-1.04.2-1.43.59L10.3 9.45l-7.72 7.72c-.78.78-.78 2.05 0 2.83L4 21.41c.39.39.9.59 1.41.59.51 0 1.02-.2 1.41-.59l7.78-7.78 2.81-2.81c.8-.78.8-2.07 0-2.86zM5.41 20L4 18.59l7.72-7.72 1.47 1.35L5.41 20z\"/>\n",
              "  </svg>\n",
              "      </button>\n",
              "      \n",
              "  <style>\n",
              "    .colab-df-container {\n",
              "      display:flex;\n",
              "      flex-wrap:wrap;\n",
              "      gap: 12px;\n",
              "    }\n",
              "\n",
              "    .colab-df-convert {\n",
              "      background-color: #E8F0FE;\n",
              "      border: none;\n",
              "      border-radius: 50%;\n",
              "      cursor: pointer;\n",
              "      display: none;\n",
              "      fill: #1967D2;\n",
              "      height: 32px;\n",
              "      padding: 0 0 0 0;\n",
              "      width: 32px;\n",
              "    }\n",
              "\n",
              "    .colab-df-convert:hover {\n",
              "      background-color: #E2EBFA;\n",
              "      box-shadow: 0px 1px 2px rgba(60, 64, 67, 0.3), 0px 1px 3px 1px rgba(60, 64, 67, 0.15);\n",
              "      fill: #174EA6;\n",
              "    }\n",
              "\n",
              "    [theme=dark] .colab-df-convert {\n",
              "      background-color: #3B4455;\n",
              "      fill: #D2E3FC;\n",
              "    }\n",
              "\n",
              "    [theme=dark] .colab-df-convert:hover {\n",
              "      background-color: #434B5C;\n",
              "      box-shadow: 0px 1px 3px 1px rgba(0, 0, 0, 0.15);\n",
              "      filter: drop-shadow(0px 1px 2px rgba(0, 0, 0, 0.3));\n",
              "      fill: #FFFFFF;\n",
              "    }\n",
              "  </style>\n",
              "\n",
              "      <script>\n",
              "        const buttonEl =\n",
              "          document.querySelector('#df-33100b73-6538-4780-8176-4c44c7266192 button.colab-df-convert');\n",
              "        buttonEl.style.display =\n",
              "          google.colab.kernel.accessAllowed ? 'block' : 'none';\n",
              "\n",
              "        async function convertToInteractive(key) {\n",
              "          const element = document.querySelector('#df-33100b73-6538-4780-8176-4c44c7266192');\n",
              "          const dataTable =\n",
              "            await google.colab.kernel.invokeFunction('convertToInteractive',\n",
              "                                                     [key], {});\n",
              "          if (!dataTable) return;\n",
              "\n",
              "          const docLinkHtml = 'Like what you see? Visit the ' +\n",
              "            '<a target=\"_blank\" href=https://colab.research.google.com/notebooks/data_table.ipynb>data table notebook</a>'\n",
              "            + ' to learn more about interactive tables.';\n",
              "          element.innerHTML = '';\n",
              "          dataTable['output_type'] = 'display_data';\n",
              "          await google.colab.output.renderOutput(dataTable, element);\n",
              "          const docLink = document.createElement('div');\n",
              "          docLink.innerHTML = docLinkHtml;\n",
              "          element.appendChild(docLink);\n",
              "        }\n",
              "      </script>\n",
              "    </div>\n",
              "  </div>\n",
              "  "
            ]
          },
          "metadata": {},
          "execution_count": 9
        }
      ]
    },
    {
      "cell_type": "code",
      "source": [
        "# DataFrame을 이루고 있는 column 별 데이터의 타입을 확인합니다.\n",
        "\n",
        "data.dtypes"
      ],
      "metadata": {
        "id": "nUIYJzklOLCy",
        "colab": {
          "base_uri": "https://localhost:8080/"
        },
        "outputId": "091acc61-6ab0-4a60-a444-9c0ba502d16d"
      },
      "execution_count": 10,
      "outputs": [
        {
          "output_type": "execute_result",
          "data": {
            "text/plain": [
              "ID                                int64\n",
              "Loan Amount                       int64\n",
              "Funded Amount                     int64\n",
              "Funded Amount Investor          float64\n",
              "Term                              int64\n",
              "Batch Enrolled                   object\n",
              "Interest Rate                   float64\n",
              "Grade                            object\n",
              "Sub Grade                        object\n",
              "Employment Duration              object\n",
              "Home Ownership                  float64\n",
              "Verification Status              object\n",
              "Payment Plan                     object\n",
              "Loan Title                       object\n",
              "Debit to Income                 float64\n",
              "Delinquency - two years           int64\n",
              "Inquires - six months             int64\n",
              "Open Account                      int64\n",
              "Public Record                     int64\n",
              "Revolving Balance                 int64\n",
              "Revolving Utilities             float64\n",
              "Total Accounts                    int64\n",
              "Initial List Status              object\n",
              "Total Received Interest         float64\n",
              "Total Received Late Fee         float64\n",
              "Recoveries                      float64\n",
              "Collection Recovery Fee         float64\n",
              "Collection 12 months Medical      int64\n",
              "Application Type                 object\n",
              "Last week Pay                     int64\n",
              "Accounts Delinquent               int64\n",
              "Total Collection Amount           int64\n",
              "Total Current Balance             int64\n",
              "Total Revolving Credit Limit      int64\n",
              "Loan Status                       int64\n",
              "dtype: object"
            ]
          },
          "metadata": {},
          "execution_count": 10
        }
      ]
    },
    {
      "cell_type": "code",
      "source": [
        "# describe()는 각 column에 대해 통계량을 요약해주는 함수입니다.\n",
        "# 기본적으로 NaN(누락데이터)는 제외하고 데이터 요약이 수행됩니다.\n",
        "\n",
        "data.describe()"
      ],
      "metadata": {
        "id": "o3-T5NZxONK4",
        "colab": {
          "base_uri": "https://localhost:8080/",
          "height": 428
        },
        "outputId": "f3b4cb6a-6cd2-494d-a917-e0a9d8b4f251"
      },
      "execution_count": 11,
      "outputs": [
        {
          "output_type": "execute_result",
          "data": {
            "text/plain": [
              "                 ID   Loan Amount  Funded Amount  Funded Amount Investor  \\\n",
              "count  6.746300e+04  67463.000000   67463.000000            67463.000000   \n",
              "mean   2.562761e+07  16848.902776   15770.599114            14621.799323   \n",
              "std    2.109155e+07   8367.865726    8150.992662             6785.345170   \n",
              "min    1.297933e+06   1014.000000    1014.000000             1114.590204   \n",
              "25%    6.570288e+06  10012.000000    9266.500000             9831.684984   \n",
              "50%    1.791565e+07  16073.000000   13042.000000            12793.682170   \n",
              "75%    4.271521e+07  22106.000000   21793.000000            17807.594120   \n",
              "max    7.224578e+07  35000.000000   34999.000000            34999.746430   \n",
              "\n",
              "               Term  Interest Rate  Home Ownership  Debit to Income  \\\n",
              "count  67463.000000   67463.000000    67463.000000     67463.000000   \n",
              "mean      58.173814      11.846258    80541.502522        23.299241   \n",
              "std        3.327441       3.718629    45029.120366         8.451824   \n",
              "min       36.000000       5.320006    14573.537170         0.675299   \n",
              "25%       58.000000       9.297147    51689.843335        16.756416   \n",
              "50%       59.000000      11.377696    69335.832680        22.656658   \n",
              "75%       59.000000      14.193533    94623.322785        30.048400   \n",
              "max       59.000000      27.182348   406561.536400        39.629862   \n",
              "\n",
              "       Delinquency - two years  Inquires - six months  ...  \\\n",
              "count             67463.000000           67463.000000  ...   \n",
              "mean                  0.327127               0.145754  ...   \n",
              "std                   0.800888               0.473291  ...   \n",
              "min                   0.000000               0.000000  ...   \n",
              "25%                   0.000000               0.000000  ...   \n",
              "50%                   0.000000               0.000000  ...   \n",
              "75%                   0.000000               0.000000  ...   \n",
              "max                   8.000000               5.000000  ...   \n",
              "\n",
              "       Total Received Late Fee    Recoveries  Collection Recovery Fee  \\\n",
              "count             67463.000000  67463.000000             67463.000000   \n",
              "mean                  1.143969     59.691578                 1.125141   \n",
              "std                   5.244365    357.026346                 3.489885   \n",
              "min                   0.000003      0.000036                 0.000036   \n",
              "25%                   0.021114      1.629818                 0.476259   \n",
              "50%                   0.043398      3.344524                 0.780141   \n",
              "75%                   0.071884      5.453727                 1.070566   \n",
              "max                  42.618882   4354.467419               166.833000   \n",
              "\n",
              "       Collection 12 months Medical  Last week Pay  Accounts Delinquent  \\\n",
              "count                  67463.000000   67463.000000              67463.0   \n",
              "mean                       0.021301      71.163260                  0.0   \n",
              "std                        0.144385      43.315845                  0.0   \n",
              "min                        0.000000       0.000000                  0.0   \n",
              "25%                        0.000000      35.000000                  0.0   \n",
              "50%                        0.000000      68.000000                  0.0   \n",
              "75%                        0.000000     105.000000                  0.0   \n",
              "max                        1.000000     161.000000                  0.0   \n",
              "\n",
              "       Total Collection Amount  Total Current Balance  \\\n",
              "count             67463.000000           6.746300e+04   \n",
              "mean                146.467990           1.595739e+05   \n",
              "std                 744.382233           1.390332e+05   \n",
              "min                   1.000000           6.170000e+02   \n",
              "25%                  24.000000           5.037900e+04   \n",
              "50%                  36.000000           1.183690e+05   \n",
              "75%                  46.000000           2.283750e+05   \n",
              "max               16421.000000           1.177412e+06   \n",
              "\n",
              "       Total Revolving Credit Limit   Loan Status  \n",
              "count                  67463.000000  67463.000000  \n",
              "mean                   23123.005544      0.092510  \n",
              "std                    20916.699999      0.289747  \n",
              "min                     1000.000000      0.000000  \n",
              "25%                     8155.500000      0.000000  \n",
              "50%                    16733.000000      0.000000  \n",
              "75%                    32146.500000      0.000000  \n",
              "max                   201169.000000      1.000000  \n",
              "\n",
              "[8 rows x 26 columns]"
            ],
            "text/html": [
              "\n",
              "  <div id=\"df-286a75c6-d47c-4f4d-9d62-77fcc35fd24a\">\n",
              "    <div class=\"colab-df-container\">\n",
              "      <div>\n",
              "<style scoped>\n",
              "    .dataframe tbody tr th:only-of-type {\n",
              "        vertical-align: middle;\n",
              "    }\n",
              "\n",
              "    .dataframe tbody tr th {\n",
              "        vertical-align: top;\n",
              "    }\n",
              "\n",
              "    .dataframe thead th {\n",
              "        text-align: right;\n",
              "    }\n",
              "</style>\n",
              "<table border=\"1\" class=\"dataframe\">\n",
              "  <thead>\n",
              "    <tr style=\"text-align: right;\">\n",
              "      <th></th>\n",
              "      <th>ID</th>\n",
              "      <th>Loan Amount</th>\n",
              "      <th>Funded Amount</th>\n",
              "      <th>Funded Amount Investor</th>\n",
              "      <th>Term</th>\n",
              "      <th>Interest Rate</th>\n",
              "      <th>Home Ownership</th>\n",
              "      <th>Debit to Income</th>\n",
              "      <th>Delinquency - two years</th>\n",
              "      <th>Inquires - six months</th>\n",
              "      <th>...</th>\n",
              "      <th>Total Received Late Fee</th>\n",
              "      <th>Recoveries</th>\n",
              "      <th>Collection Recovery Fee</th>\n",
              "      <th>Collection 12 months Medical</th>\n",
              "      <th>Last week Pay</th>\n",
              "      <th>Accounts Delinquent</th>\n",
              "      <th>Total Collection Amount</th>\n",
              "      <th>Total Current Balance</th>\n",
              "      <th>Total Revolving Credit Limit</th>\n",
              "      <th>Loan Status</th>\n",
              "    </tr>\n",
              "  </thead>\n",
              "  <tbody>\n",
              "    <tr>\n",
              "      <th>count</th>\n",
              "      <td>6.746300e+04</td>\n",
              "      <td>67463.000000</td>\n",
              "      <td>67463.000000</td>\n",
              "      <td>67463.000000</td>\n",
              "      <td>67463.000000</td>\n",
              "      <td>67463.000000</td>\n",
              "      <td>67463.000000</td>\n",
              "      <td>67463.000000</td>\n",
              "      <td>67463.000000</td>\n",
              "      <td>67463.000000</td>\n",
              "      <td>...</td>\n",
              "      <td>67463.000000</td>\n",
              "      <td>67463.000000</td>\n",
              "      <td>67463.000000</td>\n",
              "      <td>67463.000000</td>\n",
              "      <td>67463.000000</td>\n",
              "      <td>67463.0</td>\n",
              "      <td>67463.000000</td>\n",
              "      <td>6.746300e+04</td>\n",
              "      <td>67463.000000</td>\n",
              "      <td>67463.000000</td>\n",
              "    </tr>\n",
              "    <tr>\n",
              "      <th>mean</th>\n",
              "      <td>2.562761e+07</td>\n",
              "      <td>16848.902776</td>\n",
              "      <td>15770.599114</td>\n",
              "      <td>14621.799323</td>\n",
              "      <td>58.173814</td>\n",
              "      <td>11.846258</td>\n",
              "      <td>80541.502522</td>\n",
              "      <td>23.299241</td>\n",
              "      <td>0.327127</td>\n",
              "      <td>0.145754</td>\n",
              "      <td>...</td>\n",
              "      <td>1.143969</td>\n",
              "      <td>59.691578</td>\n",
              "      <td>1.125141</td>\n",
              "      <td>0.021301</td>\n",
              "      <td>71.163260</td>\n",
              "      <td>0.0</td>\n",
              "      <td>146.467990</td>\n",
              "      <td>1.595739e+05</td>\n",
              "      <td>23123.005544</td>\n",
              "      <td>0.092510</td>\n",
              "    </tr>\n",
              "    <tr>\n",
              "      <th>std</th>\n",
              "      <td>2.109155e+07</td>\n",
              "      <td>8367.865726</td>\n",
              "      <td>8150.992662</td>\n",
              "      <td>6785.345170</td>\n",
              "      <td>3.327441</td>\n",
              "      <td>3.718629</td>\n",
              "      <td>45029.120366</td>\n",
              "      <td>8.451824</td>\n",
              "      <td>0.800888</td>\n",
              "      <td>0.473291</td>\n",
              "      <td>...</td>\n",
              "      <td>5.244365</td>\n",
              "      <td>357.026346</td>\n",
              "      <td>3.489885</td>\n",
              "      <td>0.144385</td>\n",
              "      <td>43.315845</td>\n",
              "      <td>0.0</td>\n",
              "      <td>744.382233</td>\n",
              "      <td>1.390332e+05</td>\n",
              "      <td>20916.699999</td>\n",
              "      <td>0.289747</td>\n",
              "    </tr>\n",
              "    <tr>\n",
              "      <th>min</th>\n",
              "      <td>1.297933e+06</td>\n",
              "      <td>1014.000000</td>\n",
              "      <td>1014.000000</td>\n",
              "      <td>1114.590204</td>\n",
              "      <td>36.000000</td>\n",
              "      <td>5.320006</td>\n",
              "      <td>14573.537170</td>\n",
              "      <td>0.675299</td>\n",
              "      <td>0.000000</td>\n",
              "      <td>0.000000</td>\n",
              "      <td>...</td>\n",
              "      <td>0.000003</td>\n",
              "      <td>0.000036</td>\n",
              "      <td>0.000036</td>\n",
              "      <td>0.000000</td>\n",
              "      <td>0.000000</td>\n",
              "      <td>0.0</td>\n",
              "      <td>1.000000</td>\n",
              "      <td>6.170000e+02</td>\n",
              "      <td>1000.000000</td>\n",
              "      <td>0.000000</td>\n",
              "    </tr>\n",
              "    <tr>\n",
              "      <th>25%</th>\n",
              "      <td>6.570288e+06</td>\n",
              "      <td>10012.000000</td>\n",
              "      <td>9266.500000</td>\n",
              "      <td>9831.684984</td>\n",
              "      <td>58.000000</td>\n",
              "      <td>9.297147</td>\n",
              "      <td>51689.843335</td>\n",
              "      <td>16.756416</td>\n",
              "      <td>0.000000</td>\n",
              "      <td>0.000000</td>\n",
              "      <td>...</td>\n",
              "      <td>0.021114</td>\n",
              "      <td>1.629818</td>\n",
              "      <td>0.476259</td>\n",
              "      <td>0.000000</td>\n",
              "      <td>35.000000</td>\n",
              "      <td>0.0</td>\n",
              "      <td>24.000000</td>\n",
              "      <td>5.037900e+04</td>\n",
              "      <td>8155.500000</td>\n",
              "      <td>0.000000</td>\n",
              "    </tr>\n",
              "    <tr>\n",
              "      <th>50%</th>\n",
              "      <td>1.791565e+07</td>\n",
              "      <td>16073.000000</td>\n",
              "      <td>13042.000000</td>\n",
              "      <td>12793.682170</td>\n",
              "      <td>59.000000</td>\n",
              "      <td>11.377696</td>\n",
              "      <td>69335.832680</td>\n",
              "      <td>22.656658</td>\n",
              "      <td>0.000000</td>\n",
              "      <td>0.000000</td>\n",
              "      <td>...</td>\n",
              "      <td>0.043398</td>\n",
              "      <td>3.344524</td>\n",
              "      <td>0.780141</td>\n",
              "      <td>0.000000</td>\n",
              "      <td>68.000000</td>\n",
              "      <td>0.0</td>\n",
              "      <td>36.000000</td>\n",
              "      <td>1.183690e+05</td>\n",
              "      <td>16733.000000</td>\n",
              "      <td>0.000000</td>\n",
              "    </tr>\n",
              "    <tr>\n",
              "      <th>75%</th>\n",
              "      <td>4.271521e+07</td>\n",
              "      <td>22106.000000</td>\n",
              "      <td>21793.000000</td>\n",
              "      <td>17807.594120</td>\n",
              "      <td>59.000000</td>\n",
              "      <td>14.193533</td>\n",
              "      <td>94623.322785</td>\n",
              "      <td>30.048400</td>\n",
              "      <td>0.000000</td>\n",
              "      <td>0.000000</td>\n",
              "      <td>...</td>\n",
              "      <td>0.071884</td>\n",
              "      <td>5.453727</td>\n",
              "      <td>1.070566</td>\n",
              "      <td>0.000000</td>\n",
              "      <td>105.000000</td>\n",
              "      <td>0.0</td>\n",
              "      <td>46.000000</td>\n",
              "      <td>2.283750e+05</td>\n",
              "      <td>32146.500000</td>\n",
              "      <td>0.000000</td>\n",
              "    </tr>\n",
              "    <tr>\n",
              "      <th>max</th>\n",
              "      <td>7.224578e+07</td>\n",
              "      <td>35000.000000</td>\n",
              "      <td>34999.000000</td>\n",
              "      <td>34999.746430</td>\n",
              "      <td>59.000000</td>\n",
              "      <td>27.182348</td>\n",
              "      <td>406561.536400</td>\n",
              "      <td>39.629862</td>\n",
              "      <td>8.000000</td>\n",
              "      <td>5.000000</td>\n",
              "      <td>...</td>\n",
              "      <td>42.618882</td>\n",
              "      <td>4354.467419</td>\n",
              "      <td>166.833000</td>\n",
              "      <td>1.000000</td>\n",
              "      <td>161.000000</td>\n",
              "      <td>0.0</td>\n",
              "      <td>16421.000000</td>\n",
              "      <td>1.177412e+06</td>\n",
              "      <td>201169.000000</td>\n",
              "      <td>1.000000</td>\n",
              "    </tr>\n",
              "  </tbody>\n",
              "</table>\n",
              "<p>8 rows × 26 columns</p>\n",
              "</div>\n",
              "      <button class=\"colab-df-convert\" onclick=\"convertToInteractive('df-286a75c6-d47c-4f4d-9d62-77fcc35fd24a')\"\n",
              "              title=\"Convert this dataframe to an interactive table.\"\n",
              "              style=\"display:none;\">\n",
              "        \n",
              "  <svg xmlns=\"http://www.w3.org/2000/svg\" height=\"24px\"viewBox=\"0 0 24 24\"\n",
              "       width=\"24px\">\n",
              "    <path d=\"M0 0h24v24H0V0z\" fill=\"none\"/>\n",
              "    <path d=\"M18.56 5.44l.94 2.06.94-2.06 2.06-.94-2.06-.94-.94-2.06-.94 2.06-2.06.94zm-11 1L8.5 8.5l.94-2.06 2.06-.94-2.06-.94L8.5 2.5l-.94 2.06-2.06.94zm10 10l.94 2.06.94-2.06 2.06-.94-2.06-.94-.94-2.06-.94 2.06-2.06.94z\"/><path d=\"M17.41 7.96l-1.37-1.37c-.4-.4-.92-.59-1.43-.59-.52 0-1.04.2-1.43.59L10.3 9.45l-7.72 7.72c-.78.78-.78 2.05 0 2.83L4 21.41c.39.39.9.59 1.41.59.51 0 1.02-.2 1.41-.59l7.78-7.78 2.81-2.81c.8-.78.8-2.07 0-2.86zM5.41 20L4 18.59l7.72-7.72 1.47 1.35L5.41 20z\"/>\n",
              "  </svg>\n",
              "      </button>\n",
              "      \n",
              "  <style>\n",
              "    .colab-df-container {\n",
              "      display:flex;\n",
              "      flex-wrap:wrap;\n",
              "      gap: 12px;\n",
              "    }\n",
              "\n",
              "    .colab-df-convert {\n",
              "      background-color: #E8F0FE;\n",
              "      border: none;\n",
              "      border-radius: 50%;\n",
              "      cursor: pointer;\n",
              "      display: none;\n",
              "      fill: #1967D2;\n",
              "      height: 32px;\n",
              "      padding: 0 0 0 0;\n",
              "      width: 32px;\n",
              "    }\n",
              "\n",
              "    .colab-df-convert:hover {\n",
              "      background-color: #E2EBFA;\n",
              "      box-shadow: 0px 1px 2px rgba(60, 64, 67, 0.3), 0px 1px 3px 1px rgba(60, 64, 67, 0.15);\n",
              "      fill: #174EA6;\n",
              "    }\n",
              "\n",
              "    [theme=dark] .colab-df-convert {\n",
              "      background-color: #3B4455;\n",
              "      fill: #D2E3FC;\n",
              "    }\n",
              "\n",
              "    [theme=dark] .colab-df-convert:hover {\n",
              "      background-color: #434B5C;\n",
              "      box-shadow: 0px 1px 3px 1px rgba(0, 0, 0, 0.15);\n",
              "      filter: drop-shadow(0px 1px 2px rgba(0, 0, 0, 0.3));\n",
              "      fill: #FFFFFF;\n",
              "    }\n",
              "  </style>\n",
              "\n",
              "      <script>\n",
              "        const buttonEl =\n",
              "          document.querySelector('#df-286a75c6-d47c-4f4d-9d62-77fcc35fd24a button.colab-df-convert');\n",
              "        buttonEl.style.display =\n",
              "          google.colab.kernel.accessAllowed ? 'block' : 'none';\n",
              "\n",
              "        async function convertToInteractive(key) {\n",
              "          const element = document.querySelector('#df-286a75c6-d47c-4f4d-9d62-77fcc35fd24a');\n",
              "          const dataTable =\n",
              "            await google.colab.kernel.invokeFunction('convertToInteractive',\n",
              "                                                     [key], {});\n",
              "          if (!dataTable) return;\n",
              "\n",
              "          const docLinkHtml = 'Like what you see? Visit the ' +\n",
              "            '<a target=\"_blank\" href=https://colab.research.google.com/notebooks/data_table.ipynb>data table notebook</a>'\n",
              "            + ' to learn more about interactive tables.';\n",
              "          element.innerHTML = '';\n",
              "          dataTable['output_type'] = 'display_data';\n",
              "          await google.colab.output.renderOutput(dataTable, element);\n",
              "          const docLink = document.createElement('div');\n",
              "          docLink.innerHTML = docLinkHtml;\n",
              "          element.appendChild(docLink);\n",
              "        }\n",
              "      </script>\n",
              "    </div>\n",
              "  </div>\n",
              "  "
            ]
          },
          "metadata": {},
          "execution_count": 11
        }
      ]
    },
    {
      "cell_type": "markdown",
      "source": [
        "## 결측값과 중복값 확인하기\n",
        "결측값과 중복값은 데이터 분석 결과에 큰 영향을 줍니다.   \n",
        "제공된 데이터에 결측값과 중복값이 있는지 알아봅시다."
      ],
      "metadata": {
        "id": "QwnVTl0WOWoc"
      }
    },
    {
      "cell_type": "code",
      "source": [
        "# isnull()는 DataFrame에 있는 결측치(NA)를 boolean 값으로 반환하는 함수입니다.\n",
        "# 결측치가 있으면 True를 반환합니다.\n",
        "\n",
        "data.isnull().head()"
      ],
      "metadata": {
        "id": "JKSbfuRNOZ0I",
        "colab": {
          "base_uri": "https://localhost:8080/",
          "height": 331
        },
        "outputId": "30ac4aff-2a3d-4bf2-d5ef-5a65e7eb7928"
      },
      "execution_count": 12,
      "outputs": [
        {
          "output_type": "execute_result",
          "data": {
            "text/plain": [
              "      ID  Loan Amount  Funded Amount  Funded Amount Investor   Term  \\\n",
              "0  False        False          False                   False  False   \n",
              "1  False        False          False                   False  False   \n",
              "2  False        False          False                   False  False   \n",
              "3  False        False          False                   False  False   \n",
              "4  False        False          False                   False  False   \n",
              "\n",
              "   Batch Enrolled  Interest Rate  Grade  Sub Grade  Employment Duration  ...  \\\n",
              "0           False          False  False      False                False  ...   \n",
              "1           False          False  False      False                False  ...   \n",
              "2           False          False  False      False                False  ...   \n",
              "3           False          False  False      False                False  ...   \n",
              "4           False          False  False      False                False  ...   \n",
              "\n",
              "   Recoveries  Collection Recovery Fee  Collection 12 months Medical  \\\n",
              "0       False                    False                         False   \n",
              "1       False                    False                         False   \n",
              "2       False                    False                         False   \n",
              "3       False                    False                         False   \n",
              "4       False                    False                         False   \n",
              "\n",
              "   Application Type  Last week Pay  Accounts Delinquent  \\\n",
              "0             False          False                False   \n",
              "1             False          False                False   \n",
              "2             False          False                False   \n",
              "3             False          False                False   \n",
              "4             False          False                False   \n",
              "\n",
              "   Total Collection Amount  Total Current Balance  \\\n",
              "0                    False                  False   \n",
              "1                    False                  False   \n",
              "2                    False                  False   \n",
              "3                    False                  False   \n",
              "4                    False                  False   \n",
              "\n",
              "   Total Revolving Credit Limit  Loan Status  \n",
              "0                         False        False  \n",
              "1                         False        False  \n",
              "2                         False        False  \n",
              "3                         False        False  \n",
              "4                         False        False  \n",
              "\n",
              "[5 rows x 35 columns]"
            ],
            "text/html": [
              "\n",
              "  <div id=\"df-1c366e3b-9ec5-4704-b0f8-acd4c37b35a6\">\n",
              "    <div class=\"colab-df-container\">\n",
              "      <div>\n",
              "<style scoped>\n",
              "    .dataframe tbody tr th:only-of-type {\n",
              "        vertical-align: middle;\n",
              "    }\n",
              "\n",
              "    .dataframe tbody tr th {\n",
              "        vertical-align: top;\n",
              "    }\n",
              "\n",
              "    .dataframe thead th {\n",
              "        text-align: right;\n",
              "    }\n",
              "</style>\n",
              "<table border=\"1\" class=\"dataframe\">\n",
              "  <thead>\n",
              "    <tr style=\"text-align: right;\">\n",
              "      <th></th>\n",
              "      <th>ID</th>\n",
              "      <th>Loan Amount</th>\n",
              "      <th>Funded Amount</th>\n",
              "      <th>Funded Amount Investor</th>\n",
              "      <th>Term</th>\n",
              "      <th>Batch Enrolled</th>\n",
              "      <th>Interest Rate</th>\n",
              "      <th>Grade</th>\n",
              "      <th>Sub Grade</th>\n",
              "      <th>Employment Duration</th>\n",
              "      <th>...</th>\n",
              "      <th>Recoveries</th>\n",
              "      <th>Collection Recovery Fee</th>\n",
              "      <th>Collection 12 months Medical</th>\n",
              "      <th>Application Type</th>\n",
              "      <th>Last week Pay</th>\n",
              "      <th>Accounts Delinquent</th>\n",
              "      <th>Total Collection Amount</th>\n",
              "      <th>Total Current Balance</th>\n",
              "      <th>Total Revolving Credit Limit</th>\n",
              "      <th>Loan Status</th>\n",
              "    </tr>\n",
              "  </thead>\n",
              "  <tbody>\n",
              "    <tr>\n",
              "      <th>0</th>\n",
              "      <td>False</td>\n",
              "      <td>False</td>\n",
              "      <td>False</td>\n",
              "      <td>False</td>\n",
              "      <td>False</td>\n",
              "      <td>False</td>\n",
              "      <td>False</td>\n",
              "      <td>False</td>\n",
              "      <td>False</td>\n",
              "      <td>False</td>\n",
              "      <td>...</td>\n",
              "      <td>False</td>\n",
              "      <td>False</td>\n",
              "      <td>False</td>\n",
              "      <td>False</td>\n",
              "      <td>False</td>\n",
              "      <td>False</td>\n",
              "      <td>False</td>\n",
              "      <td>False</td>\n",
              "      <td>False</td>\n",
              "      <td>False</td>\n",
              "    </tr>\n",
              "    <tr>\n",
              "      <th>1</th>\n",
              "      <td>False</td>\n",
              "      <td>False</td>\n",
              "      <td>False</td>\n",
              "      <td>False</td>\n",
              "      <td>False</td>\n",
              "      <td>False</td>\n",
              "      <td>False</td>\n",
              "      <td>False</td>\n",
              "      <td>False</td>\n",
              "      <td>False</td>\n",
              "      <td>...</td>\n",
              "      <td>False</td>\n",
              "      <td>False</td>\n",
              "      <td>False</td>\n",
              "      <td>False</td>\n",
              "      <td>False</td>\n",
              "      <td>False</td>\n",
              "      <td>False</td>\n",
              "      <td>False</td>\n",
              "      <td>False</td>\n",
              "      <td>False</td>\n",
              "    </tr>\n",
              "    <tr>\n",
              "      <th>2</th>\n",
              "      <td>False</td>\n",
              "      <td>False</td>\n",
              "      <td>False</td>\n",
              "      <td>False</td>\n",
              "      <td>False</td>\n",
              "      <td>False</td>\n",
              "      <td>False</td>\n",
              "      <td>False</td>\n",
              "      <td>False</td>\n",
              "      <td>False</td>\n",
              "      <td>...</td>\n",
              "      <td>False</td>\n",
              "      <td>False</td>\n",
              "      <td>False</td>\n",
              "      <td>False</td>\n",
              "      <td>False</td>\n",
              "      <td>False</td>\n",
              "      <td>False</td>\n",
              "      <td>False</td>\n",
              "      <td>False</td>\n",
              "      <td>False</td>\n",
              "    </tr>\n",
              "    <tr>\n",
              "      <th>3</th>\n",
              "      <td>False</td>\n",
              "      <td>False</td>\n",
              "      <td>False</td>\n",
              "      <td>False</td>\n",
              "      <td>False</td>\n",
              "      <td>False</td>\n",
              "      <td>False</td>\n",
              "      <td>False</td>\n",
              "      <td>False</td>\n",
              "      <td>False</td>\n",
              "      <td>...</td>\n",
              "      <td>False</td>\n",
              "      <td>False</td>\n",
              "      <td>False</td>\n",
              "      <td>False</td>\n",
              "      <td>False</td>\n",
              "      <td>False</td>\n",
              "      <td>False</td>\n",
              "      <td>False</td>\n",
              "      <td>False</td>\n",
              "      <td>False</td>\n",
              "    </tr>\n",
              "    <tr>\n",
              "      <th>4</th>\n",
              "      <td>False</td>\n",
              "      <td>False</td>\n",
              "      <td>False</td>\n",
              "      <td>False</td>\n",
              "      <td>False</td>\n",
              "      <td>False</td>\n",
              "      <td>False</td>\n",
              "      <td>False</td>\n",
              "      <td>False</td>\n",
              "      <td>False</td>\n",
              "      <td>...</td>\n",
              "      <td>False</td>\n",
              "      <td>False</td>\n",
              "      <td>False</td>\n",
              "      <td>False</td>\n",
              "      <td>False</td>\n",
              "      <td>False</td>\n",
              "      <td>False</td>\n",
              "      <td>False</td>\n",
              "      <td>False</td>\n",
              "      <td>False</td>\n",
              "    </tr>\n",
              "  </tbody>\n",
              "</table>\n",
              "<p>5 rows × 35 columns</p>\n",
              "</div>\n",
              "      <button class=\"colab-df-convert\" onclick=\"convertToInteractive('df-1c366e3b-9ec5-4704-b0f8-acd4c37b35a6')\"\n",
              "              title=\"Convert this dataframe to an interactive table.\"\n",
              "              style=\"display:none;\">\n",
              "        \n",
              "  <svg xmlns=\"http://www.w3.org/2000/svg\" height=\"24px\"viewBox=\"0 0 24 24\"\n",
              "       width=\"24px\">\n",
              "    <path d=\"M0 0h24v24H0V0z\" fill=\"none\"/>\n",
              "    <path d=\"M18.56 5.44l.94 2.06.94-2.06 2.06-.94-2.06-.94-.94-2.06-.94 2.06-2.06.94zm-11 1L8.5 8.5l.94-2.06 2.06-.94-2.06-.94L8.5 2.5l-.94 2.06-2.06.94zm10 10l.94 2.06.94-2.06 2.06-.94-2.06-.94-.94-2.06-.94 2.06-2.06.94z\"/><path d=\"M17.41 7.96l-1.37-1.37c-.4-.4-.92-.59-1.43-.59-.52 0-1.04.2-1.43.59L10.3 9.45l-7.72 7.72c-.78.78-.78 2.05 0 2.83L4 21.41c.39.39.9.59 1.41.59.51 0 1.02-.2 1.41-.59l7.78-7.78 2.81-2.81c.8-.78.8-2.07 0-2.86zM5.41 20L4 18.59l7.72-7.72 1.47 1.35L5.41 20z\"/>\n",
              "  </svg>\n",
              "      </button>\n",
              "      \n",
              "  <style>\n",
              "    .colab-df-container {\n",
              "      display:flex;\n",
              "      flex-wrap:wrap;\n",
              "      gap: 12px;\n",
              "    }\n",
              "\n",
              "    .colab-df-convert {\n",
              "      background-color: #E8F0FE;\n",
              "      border: none;\n",
              "      border-radius: 50%;\n",
              "      cursor: pointer;\n",
              "      display: none;\n",
              "      fill: #1967D2;\n",
              "      height: 32px;\n",
              "      padding: 0 0 0 0;\n",
              "      width: 32px;\n",
              "    }\n",
              "\n",
              "    .colab-df-convert:hover {\n",
              "      background-color: #E2EBFA;\n",
              "      box-shadow: 0px 1px 2px rgba(60, 64, 67, 0.3), 0px 1px 3px 1px rgba(60, 64, 67, 0.15);\n",
              "      fill: #174EA6;\n",
              "    }\n",
              "\n",
              "    [theme=dark] .colab-df-convert {\n",
              "      background-color: #3B4455;\n",
              "      fill: #D2E3FC;\n",
              "    }\n",
              "\n",
              "    [theme=dark] .colab-df-convert:hover {\n",
              "      background-color: #434B5C;\n",
              "      box-shadow: 0px 1px 3px 1px rgba(0, 0, 0, 0.15);\n",
              "      filter: drop-shadow(0px 1px 2px rgba(0, 0, 0, 0.3));\n",
              "      fill: #FFFFFF;\n",
              "    }\n",
              "  </style>\n",
              "\n",
              "      <script>\n",
              "        const buttonEl =\n",
              "          document.querySelector('#df-1c366e3b-9ec5-4704-b0f8-acd4c37b35a6 button.colab-df-convert');\n",
              "        buttonEl.style.display =\n",
              "          google.colab.kernel.accessAllowed ? 'block' : 'none';\n",
              "\n",
              "        async function convertToInteractive(key) {\n",
              "          const element = document.querySelector('#df-1c366e3b-9ec5-4704-b0f8-acd4c37b35a6');\n",
              "          const dataTable =\n",
              "            await google.colab.kernel.invokeFunction('convertToInteractive',\n",
              "                                                     [key], {});\n",
              "          if (!dataTable) return;\n",
              "\n",
              "          const docLinkHtml = 'Like what you see? Visit the ' +\n",
              "            '<a target=\"_blank\" href=https://colab.research.google.com/notebooks/data_table.ipynb>data table notebook</a>'\n",
              "            + ' to learn more about interactive tables.';\n",
              "          element.innerHTML = '';\n",
              "          dataTable['output_type'] = 'display_data';\n",
              "          await google.colab.output.renderOutput(dataTable, element);\n",
              "          const docLink = document.createElement('div');\n",
              "          docLink.innerHTML = docLinkHtml;\n",
              "          element.appendChild(docLink);\n",
              "        }\n",
              "      </script>\n",
              "    </div>\n",
              "  </div>\n",
              "  "
            ]
          },
          "metadata": {},
          "execution_count": 12
        }
      ]
    },
    {
      "cell_type": "code",
      "source": [
        "# isnull()에 sum() 를 결합하여 DataFrame에 있는 결측치의 합을 구합니다.\n",
        "\n",
        "data.isnull().sum() \n",
        "# 현재 데이터에서는 결측치가 없습니다. \n",
        "# 데이터에 결측치가 있는 경우, 결측값을 갖는 데이터를 삭제하거나 결측값을 보정하여 채우는 방법으로 결측치를 처리하여야 합니다."
      ],
      "metadata": {
        "id": "B-7xaXlZOcYI",
        "colab": {
          "base_uri": "https://localhost:8080/"
        },
        "outputId": "dc7d005d-0cf1-4d4d-f355-d091af879aa7"
      },
      "execution_count": 13,
      "outputs": [
        {
          "output_type": "execute_result",
          "data": {
            "text/plain": [
              "ID                              0\n",
              "Loan Amount                     0\n",
              "Funded Amount                   0\n",
              "Funded Amount Investor          0\n",
              "Term                            0\n",
              "Batch Enrolled                  0\n",
              "Interest Rate                   0\n",
              "Grade                           0\n",
              "Sub Grade                       0\n",
              "Employment Duration             0\n",
              "Home Ownership                  0\n",
              "Verification Status             0\n",
              "Payment Plan                    0\n",
              "Loan Title                      0\n",
              "Debit to Income                 0\n",
              "Delinquency - two years         0\n",
              "Inquires - six months           0\n",
              "Open Account                    0\n",
              "Public Record                   0\n",
              "Revolving Balance               0\n",
              "Revolving Utilities             0\n",
              "Total Accounts                  0\n",
              "Initial List Status             0\n",
              "Total Received Interest         0\n",
              "Total Received Late Fee         0\n",
              "Recoveries                      0\n",
              "Collection Recovery Fee         0\n",
              "Collection 12 months Medical    0\n",
              "Application Type                0\n",
              "Last week Pay                   0\n",
              "Accounts Delinquent             0\n",
              "Total Collection Amount         0\n",
              "Total Current Balance           0\n",
              "Total Revolving Credit Limit    0\n",
              "Loan Status                     0\n",
              "dtype: int64"
            ]
          },
          "metadata": {},
          "execution_count": 13
        }
      ]
    },
    {
      "cell_type": "code",
      "source": [
        "# duplicated()는 중복된 데이터를 Series 형식으로 반환합니다.\n",
        "\n",
        "data.duplicated()"
      ],
      "metadata": {
        "id": "CcJX2TvFO_SN",
        "colab": {
          "base_uri": "https://localhost:8080/"
        },
        "outputId": "197d7f68-10c8-4c68-8ec2-d6e8c8d36294"
      },
      "execution_count": 14,
      "outputs": [
        {
          "output_type": "execute_result",
          "data": {
            "text/plain": [
              "0        False\n",
              "1        False\n",
              "2        False\n",
              "3        False\n",
              "4        False\n",
              "         ...  \n",
              "67458    False\n",
              "67459    False\n",
              "67460    False\n",
              "67461    False\n",
              "67462    False\n",
              "Length: 67463, dtype: bool"
            ]
          },
          "metadata": {},
          "execution_count": 14
        }
      ]
    },
    {
      "cell_type": "code",
      "source": [
        "# duplicated()에 sum()을 결합하여 DataFrame에 있는 중복 데이터의 합을 구합니다.\n",
        "\n",
        "data.duplicated().sum()"
      ],
      "metadata": {
        "id": "mx3WIDJ2PAah",
        "colab": {
          "base_uri": "https://localhost:8080/"
        },
        "outputId": "f7bfa785-1fb1-4639-c514-f2c6c82a633e"
      },
      "execution_count": 15,
      "outputs": [
        {
          "output_type": "execute_result",
          "data": {
            "text/plain": [
              "0"
            ]
          },
          "metadata": {},
          "execution_count": 15
        }
      ]
    },
    {
      "cell_type": "markdown",
      "source": [
        "## 문제 1 :: 데이터 정리"
      ],
      "metadata": {
        "id": "g2_OxCH0RK5i"
      }
    },
    {
      "cell_type": "markdown",
      "source": [
        "### 문제 1-1\n",
        "DataFrame data의 각 feature에 포함된 unique value의 개수를 구하고 그 개수를 출력하여 보고서에 캡처하여 첨부하세요 (힌트: pandas에 있는 함수 사용) "
      ],
      "metadata": {
        "id": "7JFDlxJdR0qu"
      }
    },
    {
      "cell_type": "code",
      "source": [
        "### 문제 1-1 ###\n",
        "# 코드 작성\n",
        "data.nunique()\n",
        "#pd.nunique는 각 feature마다 unique value의 개수를 확인하는 메소드다\n",
        "################"
      ],
      "metadata": {
        "id": "9yIt3AtpR9FJ",
        "colab": {
          "base_uri": "https://localhost:8080/"
        },
        "outputId": "f05b4e5e-4d3f-43f5-b071-46da9cd9b9c5"
      },
      "execution_count": 16,
      "outputs": [
        {
          "output_type": "execute_result",
          "data": {
            "text/plain": [
              "ID                              67463\n",
              "Loan Amount                     27525\n",
              "Funded Amount                   24548\n",
              "Funded Amount Investor          67441\n",
              "Term                                3\n",
              "Batch Enrolled                     41\n",
              "Interest Rate                   67448\n",
              "Grade                               7\n",
              "Sub Grade                          35\n",
              "Employment Duration                 3\n",
              "Home Ownership                  67454\n",
              "Verification Status                 3\n",
              "Payment Plan                        1\n",
              "Loan Title                        109\n",
              "Debit to Income                 67454\n",
              "Delinquency - two years             9\n",
              "Inquires - six months               6\n",
              "Open Account                       36\n",
              "Public Record                       5\n",
              "Revolving Balance               20582\n",
              "Revolving Utilities             67458\n",
              "Total Accounts                     69\n",
              "Initial List Status                 2\n",
              "Total Received Interest         67451\n",
              "Total Received Late Fee         67380\n",
              "Recoveries                      67387\n",
              "Collection Recovery Fee         67313\n",
              "Collection 12 months Medical        2\n",
              "Application Type                    2\n",
              "Last week Pay                     162\n",
              "Accounts Delinquent                 1\n",
              "Total Collection Amount          2193\n",
              "Total Current Balance           60901\n",
              "Total Revolving Credit Limit    37708\n",
              "Loan Status                         2\n",
              "dtype: int64"
            ]
          },
          "metadata": {},
          "execution_count": 16
        }
      ]
    },
    {
      "cell_type": "markdown",
      "source": [
        "### 문제 1-2\n",
        "문제 1-1 결과를 바탕으로 unique value가 1인 column을 삭제하고 data.columns를 실행하여 그 결과를 보고서에 캡처하여 첨부하세요"
      ],
      "metadata": {
        "id": "vDAyXZmzS7P7"
      }
    },
    {
      "cell_type": "code",
      "source": [
        "### 문제 1-2 ###\n",
        "drop_col = [i for i in data.columns if data[i].nunique() == 1]\n",
        "print(drop_col)\n",
        "data = data.drop(drop_col, axis =1, inplace = False)\n",
        "#우선 for 문을 돌려 각 column마다 unique value가 1인 column을 리스트에 넣고 리스트 출력 후 drop한다\n",
        "################\n",
        "print(data.columns)"
      ],
      "metadata": {
        "id": "lomPKB8JTJLw",
        "colab": {
          "base_uri": "https://localhost:8080/"
        },
        "outputId": "b9908f5b-d4b6-41a3-dc50-0391fcdb7549"
      },
      "execution_count": 17,
      "outputs": [
        {
          "output_type": "stream",
          "name": "stdout",
          "text": [
            "['Payment Plan', 'Accounts Delinquent']\n",
            "Index(['ID', 'Loan Amount', 'Funded Amount', 'Funded Amount Investor', 'Term',\n",
            "       'Batch Enrolled', 'Interest Rate', 'Grade', 'Sub Grade',\n",
            "       'Employment Duration', 'Home Ownership', 'Verification Status',\n",
            "       'Loan Title', 'Debit to Income', 'Delinquency - two years',\n",
            "       'Inquires - six months', 'Open Account', 'Public Record',\n",
            "       'Revolving Balance', 'Revolving Utilities', 'Total Accounts',\n",
            "       'Initial List Status', 'Total Received Interest',\n",
            "       'Total Received Late Fee', 'Recoveries', 'Collection Recovery Fee',\n",
            "       'Collection 12 months Medical', 'Application Type', 'Last week Pay',\n",
            "       'Total Collection Amount', 'Total Current Balance',\n",
            "       'Total Revolving Credit Limit', 'Loan Status'],\n",
            "      dtype='object')\n"
          ]
        }
      ]
    },
    {
      "cell_type": "markdown",
      "source": [
        "### 문제 1-3\n",
        "DataFrame data의 feature 이름에는 feature의 이름을 이루는 단어가 두 단어 이상인 경우, 공백이 포함되어 있습니다. feature 이름에 공백을 없애는 코드를 작성하고 data.columns를 실행하여 그 결과를 보고서에 첨부하세요."
      ],
      "metadata": {
        "id": "XqZ_xGnDRN6P"
      }
    },
    {
      "cell_type": "code",
      "source": [
        "### 문제 1-3 ###\n",
        "data.columns = data.columns.str.replace(' ', '')\n",
        "#df.columns.str.replace는 datafram column마다 값이 string인 column 중에 공백 문자를 제거하는 명령어다\n",
        "################\n",
        "print(data.columns)"
      ],
      "metadata": {
        "id": "QRMIen3yRNgK",
        "colab": {
          "base_uri": "https://localhost:8080/"
        },
        "outputId": "1f260524-56cb-4ea9-8894-79f16bde7939"
      },
      "execution_count": 18,
      "outputs": [
        {
          "output_type": "stream",
          "name": "stdout",
          "text": [
            "Index(['ID', 'LoanAmount', 'FundedAmount', 'FundedAmountInvestor', 'Term',\n",
            "       'BatchEnrolled', 'InterestRate', 'Grade', 'SubGrade',\n",
            "       'EmploymentDuration', 'HomeOwnership', 'VerificationStatus',\n",
            "       'LoanTitle', 'DebittoIncome', 'Delinquency-twoyears',\n",
            "       'Inquires-sixmonths', 'OpenAccount', 'PublicRecord', 'RevolvingBalance',\n",
            "       'RevolvingUtilities', 'TotalAccounts', 'InitialListStatus',\n",
            "       'TotalReceivedInterest', 'TotalReceivedLateFee', 'Recoveries',\n",
            "       'CollectionRecoveryFee', 'Collection12monthsMedical', 'ApplicationType',\n",
            "       'LastweekPay', 'TotalCollectionAmount', 'TotalCurrentBalance',\n",
            "       'TotalRevolvingCreditLimit', 'LoanStatus'],\n",
            "      dtype='object')\n"
          ]
        }
      ]
    },
    {
      "cell_type": "markdown",
      "source": [
        "## 문제 2 :: 범주형, 수치형 데이터\n"
      ],
      "metadata": {
        "id": "fGfN4F3-l_jz"
      }
    },
    {
      "cell_type": "markdown",
      "source": [
        "### 문제 2-1\n",
        "위 ```데이터 살펴보기``` 섹션에서 ```data.dtypes```로 데이터의 type을 살펴보았습니다. ```data.dtypes``` 결과를 참고하여 범주형 데이터(categorical data)를 가진 열의 이름을 담고 있는 List ```categorical```를 아래의 조건을 지켜서 만드세요.\n",
        "* 이 문제에서는 범주형 데이터가 ```object``` type을 가지고 있다고 가정합니다.\n",
        "(실제 데이터에서는 dtypes 결과가 int이더라도 categorical일 수 있습니다)\n",
        "* categorical 함수의 data type은 Index가 아니라 List입니다.\n",
        "<br>\n",
        "보고서에 코드와 categorical 함수의 출력값을 함께 캡처하여 제출합니다."
      ],
      "metadata": {
        "id": "XrEnZCH6Ck4r"
      }
    },
    {
      "cell_type": "code",
      "source": [
        "### 문제 2-1 ###\n",
        "# 보고서에 코드와 categorical 함수의 출력값을 함께 캡처하여 제출합니다\n",
        "categorical = [ i for i in data.columns if data[i].dtype == 'object']\n",
        "# for 문을 통해 각 column마다 object인 column을 리스트에 기입해 출력한다\n",
        "###############\n",
        "print(categorical)"
      ],
      "metadata": {
        "id": "kM64YmrEmHtg",
        "colab": {
          "base_uri": "https://localhost:8080/"
        },
        "outputId": "9fe842a3-3162-448e-9c3a-f220ef8ae1d3"
      },
      "execution_count": 19,
      "outputs": [
        {
          "output_type": "stream",
          "name": "stdout",
          "text": [
            "['BatchEnrolled', 'Grade', 'SubGrade', 'EmploymentDuration', 'VerificationStatus', 'LoanTitle', 'InitialListStatus', 'ApplicationType']\n"
          ]
        }
      ]
    },
    {
      "cell_type": "markdown",
      "source": [
        "### 문제 2-2\n",
        "List categorical에 속하지 않은 feature들을 List numerical에 저장하고 numerical를 출력하여 보고서에 첨부하세요. (힌트: set(집합)"
      ],
      "metadata": {
        "id": "mVH8GP1OCn2c"
      }
    },
    {
      "cell_type": "code",
      "source": [
        "### 문제 2-2 ###\n",
        "numerical = list(set(data.columns) - set(categorical))\n",
        "#set 명령어를 통해 전체 데이터 컬럼 리스트에서 중복되는 categorical column 리스트를 뺌으로 numerical 만 남겼다.\n",
        "###############\n",
        "print(numerical)"
      ],
      "metadata": {
        "id": "IBY5cBNlC0FC",
        "colab": {
          "base_uri": "https://localhost:8080/"
        },
        "outputId": "ddef6de7-1940-4c80-9992-6029fda7972d"
      },
      "execution_count": 20,
      "outputs": [
        {
          "output_type": "stream",
          "name": "stdout",
          "text": [
            "['LastweekPay', 'FundedAmount', 'InterestRate', 'RevolvingBalance', 'TotalCollectionAmount', 'Inquires-sixmonths', 'Delinquency-twoyears', 'DebittoIncome', 'TotalReceivedLateFee', 'OpenAccount', 'Term', 'TotalCurrentBalance', 'HomeOwnership', 'LoanAmount', 'RevolvingUtilities', 'Recoveries', 'LoanStatus', 'TotalReceivedInterest', 'TotalAccounts', 'CollectionRecoveryFee', 'PublicRecord', 'Collection12monthsMedical', 'FundedAmountInvestor', 'TotalRevolvingCreditLimit', 'ID']\n"
          ]
        }
      ]
    },
    {
      "cell_type": "markdown",
      "source": [
        "## 문제 3 :: 데이터 시각화\n"
      ],
      "metadata": {
        "id": "HFGq6fTb7ReK"
      }
    },
    {
      "cell_type": "markdown",
      "source": [
        "### 문제 3-1\n",
        "```seaborn.countplot```을 사용하여 각 Loan Status 에 대한 Grade, Term, Employment Duration의 countplot을 출력하여 3개의 countplot을 보고서에 캡처하여 첨부하세요.\n"
      ],
      "metadata": {
        "id": "oN8__NTlFrIi"
      }
    },
    {
      "cell_type": "code",
      "source": [
        "# Loan Status에 대한 Grade의 countplot 작성\n",
        "sns.countplot(x = data['LoanStatus'], data=data['Grade'])\n",
        "# 대출 받은 학생의 성적에대한 그래프이다"
      ],
      "metadata": {
        "id": "khhSq9FbDmFr",
        "colab": {
          "base_uri": "https://localhost:8080/",
          "height": 296
        },
        "outputId": "6dbe7444-3b8a-4648-fe50-1df2df1f0792"
      },
      "execution_count": 21,
      "outputs": [
        {
          "output_type": "execute_result",
          "data": {
            "text/plain": [
              "<Axes: xlabel='Grade', ylabel='count'>"
            ]
          },
          "metadata": {},
          "execution_count": 21
        },
        {
          "output_type": "display_data",
          "data": {
            "text/plain": [
              "<Figure size 432x288 with 1 Axes>"
            ],
            "image/png": "[encoded data removed]"
          },
          "metadata": {
            "needs_background": "light"
          }
        }
      ]
    },
    {
      "cell_type": "code",
      "source": [
        "# Loan Status에 대한 Term의 countplot 작성\n",
        "sns.countplot(x = data['LoanStatus'], data=data['Term'])\n",
        "# 대출 받은 학생의 Term에대한 그래프이다 "
      ],
      "metadata": {
        "id": "t7ESlRSeDmWz",
        "colab": {
          "base_uri": "https://localhost:8080/",
          "height": 298
        },
        "outputId": "9c0c3251-b43d-4cd3-c2ed-125558dba295"
      },
      "execution_count": 22,
      "outputs": [
        {
          "output_type": "execute_result",
          "data": {
            "text/plain": [
              "<Axes: xlabel='Term', ylabel='count'>"
            ]
          },
          "metadata": {},
          "execution_count": 22
        },
        {
          "output_type": "display_data",
          "data": {
            "text/plain": [
              "<Figure size 432x288 with 1 Axes>"
            ],
            "image/png": "[encoded data removed]"
          },
          "metadata": {
            "needs_background": "light"
          }
        }
      ]
    },
    {
      "cell_type": "code",
      "source": [
        "# Loan Status에 대한 Employment Duration의 countplot 작성\n",
        "sns.countplot(x = data['LoanStatus'], data=data['EmploymentDuration'])\n",
        "# 대출 받은 학생의 EmploymentDuration에대한 그래프이다"
      ],
      "metadata": {
        "id": "lpXf16bbDmiF",
        "colab": {
          "base_uri": "https://localhost:8080/",
          "height": 296
        },
        "outputId": "ab6b0fb7-5a46-4aaf-b335-e4d63bef39d0"
      },
      "execution_count": 23,
      "outputs": [
        {
          "output_type": "execute_result",
          "data": {
            "text/plain": [
              "<Axes: xlabel='EmploymentDuration', ylabel='count'>"
            ]
          },
          "metadata": {},
          "execution_count": 23
        },
        {
          "output_type": "display_data",
          "data": {
            "text/plain": [
              "<Figure size 432x288 with 1 Axes>"
            ],
            "image/png": "[encoded data removed]"
          },
          "metadata": {
            "needs_background": "light"
          }
        }
      ]
    },
    {
      "cell_type": "markdown",
      "source": [
        "### 문제 3-2\n",
        "'Interest Rate'에 대한 boxplot을 그리고 캡처하여 보고서에 첨부하세요. 그리고 boxplot에 대해서 아래의 조건을 지켜 서술하세요. (강의노트 2, 40쪽 참고)\n",
        "* 서술에는 최소, 최대, 중앙값, Q1, Q3, outlier(이상치)를 포함합니다."
      ],
      "metadata": {
        "id": "X8T5RjbqHk3E"
      }
    },
    {
      "cell_type": "code",
      "source": [
        "\n",
        "print(data[['InterestRate']])\n",
        "plt.boxplot(data['InterestRate'])\n",
        "plt.xticks([1], ['InterstRate'])\n",
        "plt.show()\n",
        "#boxplot이며 q1,q3은 기본값인 25% 와 75%이며 주황선은 중앙값 boxplot의 끝은 최소값과 최대값이면 나머지 점들은 outlier이다"
      ],
      "metadata": {
        "colab": {
          "base_uri": "https://localhost:8080/",
          "height": 508
        },
        "id": "KzHx7J2nsi2T",
        "outputId": "ebd5aa44-2f90-4874-96bb-b10d23c51cb9"
      },
      "execution_count": 24,
      "outputs": [
        {
          "output_type": "stream",
          "name": "stdout",
          "text": [
            "       InterestRate\n",
            "0         11.135007\n",
            "1         12.237563\n",
            "2         12.545884\n",
            "3         16.731201\n",
            "4         15.008300\n",
            "...             ...\n",
            "67458      9.408858\n",
            "67459      9.972104\n",
            "67460     19.650943\n",
            "67461     13.169095\n",
            "67462     16.034631\n",
            "\n",
            "[67463 rows x 1 columns]\n"
          ]
        },
        {
          "output_type": "display_data",
          "data": {
            "text/plain": [
              "<Figure size 432x288 with 1 Axes>"
            ],
            "image/png": "[encoded data removed]"
          },
          "metadata": {
            "needs_background": "light"
          }
        }
      ]
    },
    {
      "cell_type": "markdown",
      "source": [
        "### 문제 3-3\n",
        "문제 3-2에서 그린 boxplot에는 outlier가 있습니다. 'InterestRate'에 있는 outlier를 제거하는 함수 extract_outliers() 의 빈 칸을 채워 outlier를 찾으세요. extract_outliers 함수를 캡처하여 보고서에 첨부하세요.\n",
        "* 입력: 원본 데이터, outlier가 있는 열의 이름\n",
        "* 출력: outlier들만 있는 DataFrame"
      ],
      "metadata": {
        "id": "CiocpEsJsIlf"
      }
    },
    {
      "cell_type": "code",
      "source": [
        "def extract_outliers(data,col):\n",
        "\n",
        "  q1 =  data[col].quantile(0.25)\n",
        "  q3 = data[col].quantile(0.75)\n",
        "\n",
        "  ################  문제 3-3  ####################\n",
        "  # 소스코드를 입력하고 캡처 후 보고서에 업로드하세요.\n",
        "  # 코드 시작과 코드 끝 라인을 삭제하지 마세요.\n",
        "  ################ 코드 시작  #####################\n",
        "  iqr = q3 -q1\n",
        "  \n",
        "  out = data[(data[col] < (q1 - iqr*1.5)) | (data[col] > (q3 + iqr * 1.5))]\n",
        "  \n",
        "  #q3 -q1을 통해 iqr을 찾고 이를 위의 수식으로 최대값 보다 크거나 최소값 보다 작은 값들을 our 리스트에 삽입한다\n",
        "  ################ 코드 끝 ######################\n",
        "  return out "
      ],
      "metadata": {
        "id": "l4DPo2Pstck1"
      },
      "execution_count": 25,
      "outputs": []
    },
    {
      "cell_type": "code",
      "source": [
        "outlier = extract_outliers(data, \"InterestRate\")\n",
        "print(outlier)"
      ],
      "metadata": {
        "id": "NczYAbRgtgbp",
        "colab": {
          "base_uri": "https://localhost:8080/"
        },
        "outputId": "a1e870aa-dfff-4f90-f32b-601e01c44585"
      },
      "execution_count": 26,
      "outputs": [
        {
          "output_type": "stream",
          "name": "stdout",
          "text": [
            "             ID  LoanAmount  FundedAmount  FundedAmountInvestor  Term  \\\n",
            "79      5777207       18874         16334           9289.247238    59   \n",
            "228    22688037       16630          6766          21229.668480    59   \n",
            "238     6388556       13709          8031          25148.396570    59   \n",
            "254     1794250       20187          7143          12124.428250    59   \n",
            "277    43659319       16491         13269          14081.997680    59   \n",
            "...         ...         ...           ...                   ...   ...   \n",
            "66711  16321709       12637         21685          19853.808170    59   \n",
            "66714   6232346       18373         31456          14939.169930    59   \n",
            "66736   5496058       12981         10425          11225.407360    59   \n",
            "67156  56902967        6717         32637           9040.558684    59   \n",
            "67169   3028289        8980          7791           6426.263640    59   \n",
            "\n",
            "      BatchEnrolled  InterestRate Grade SubGrade EmploymentDuration  ...  \\\n",
            "79       BAT3865626     22.019769     C       F4           MORTGAGE  ...   \n",
            "228      BAT5849876     23.107420     B       B1               RENT  ...   \n",
            "238      BAT2333412     24.670390     C       B1           MORTGAGE  ...   \n",
            "254      BAT5547201     21.864763     C       B1               RENT  ...   \n",
            "277      BAT4694572     22.619669     A       B4           MORTGAGE  ...   \n",
            "...             ...           ...   ...      ...                ...  ...   \n",
            "66711    BAT4722912     22.052032     B       C3           MORTGAGE  ...   \n",
            "66714    BAT2803411     24.688754     C       C1               RENT  ...   \n",
            "66736    BAT1104812     26.545888     A       C1           MORTGAGE  ...   \n",
            "67156    BAT3873588     21.755005     B       D4           MORTGAGE  ...   \n",
            "67169    BAT2575549     25.814732     E       C4           MORTGAGE  ...   \n",
            "\n",
            "       TotalReceivedLateFee   Recoveries CollectionRecoveryFee  \\\n",
            "79                 0.022013     3.901512              0.680022   \n",
            "228                0.090822     6.245826              0.233682   \n",
            "238                0.093126  2700.713470              0.575655   \n",
            "254                0.074507     6.775994              0.349744   \n",
            "277                0.054664     3.684593              0.795773   \n",
            "...                     ...          ...                   ...   \n",
            "66711              0.042755     3.676203              0.753663   \n",
            "66714              0.024297     0.714507              1.572424   \n",
            "66736              0.079626     0.338494              0.543297   \n",
            "67156              0.030245     5.097780              0.772381   \n",
            "67169              0.045343     0.250997              1.226398   \n",
            "\n",
            "       Collection12monthsMedical  ApplicationType  LastweekPay  \\\n",
            "79                             0       INDIVIDUAL          153   \n",
            "228                            0       INDIVIDUAL           90   \n",
            "238                            0       INDIVIDUAL           28   \n",
            "254                            0       INDIVIDUAL           30   \n",
            "277                            0       INDIVIDUAL           65   \n",
            "...                          ...              ...          ...   \n",
            "66711                          0       INDIVIDUAL          126   \n",
            "66714                          0       INDIVIDUAL           14   \n",
            "66736                          0       INDIVIDUAL           28   \n",
            "67156                          0       INDIVIDUAL          102   \n",
            "67169                          0       INDIVIDUAL           32   \n",
            "\n",
            "       TotalCollectionAmount  TotalCurrentBalance  TotalRevolvingCreditLimit  \\\n",
            "79                        50               198127                      19431   \n",
            "228                       11               166714                       4425   \n",
            "238                        8                37872                      97057   \n",
            "254                       18               130082                       1448   \n",
            "277                      318               256703                      45564   \n",
            "...                      ...                  ...                        ...   \n",
            "66711                     59                17187                      13436   \n",
            "66714                     42               122228                      40315   \n",
            "66736                     23                 7375                      15421   \n",
            "67156                     33                92485                       6180   \n",
            "67169                     37               167306                      31622   \n",
            "\n",
            "       LoanStatus  \n",
            "79              0  \n",
            "228             0  \n",
            "238             0  \n",
            "254             0  \n",
            "277             0  \n",
            "...           ...  \n",
            "66711           0  \n",
            "66714           0  \n",
            "66736           0  \n",
            "67156           0  \n",
            "67169           0  \n",
            "\n",
            "[851 rows x 33 columns]\n"
          ]
        }
      ]
    },
    {
      "cell_type": "code",
      "source": [
        "data = data.drop(outlier.index, errors='ignore', axis=0)"
      ],
      "metadata": {
        "id": "fQSbhgnGuX7q"
      },
      "execution_count": 27,
      "outputs": []
    },
    {
      "cell_type": "markdown",
      "source": [
        "## 문제 4\n",
        "문제1에서 구한 List categorical에는 'Grade' 와 'Sub Grade' feature가 포함되어있습니다. 이 두 가지 feature에 대해 살펴봅시다."
      ],
      "metadata": {
        "id": "0kB4zjhfo56v"
      }
    },
    {
      "cell_type": "code",
      "source": [
        "data['Grade'].unique() # 'Grade'에 포함된 값 확인"
      ],
      "metadata": {
        "id": "-DierDauu0XR",
        "colab": {
          "base_uri": "https://localhost:8080/"
        },
        "outputId": "cbfcc762-56c4-44c9-ef6a-113a3f828b5f"
      },
      "execution_count": 28,
      "outputs": [
        {
          "output_type": "execute_result",
          "data": {
            "text/plain": [
              "array(['B', 'C', 'F', 'A', 'G', 'E', 'D'], dtype=object)"
            ]
          },
          "metadata": {},
          "execution_count": 28
        }
      ]
    },
    {
      "cell_type": "code",
      "source": [
        "data['SubGrade'].unique() # 'SubGrade'에 포함된 값 확인"
      ],
      "metadata": {
        "id": "__FB9bXyyS1Y",
        "colab": {
          "base_uri": "https://localhost:8080/"
        },
        "outputId": "aa6d196e-1ff3-4943-8519-4504c2c43c4b"
      },
      "execution_count": 29,
      "outputs": [
        {
          "output_type": "execute_result",
          "data": {
            "text/plain": [
              "array(['C4', 'D3', 'D4', 'C3', 'G5', 'C5', 'A5', 'C2', 'B5', 'B1', 'B4',\n",
              "       'A4', 'B2', 'D2', 'C1', 'F3', 'D1', 'F2', 'A2', 'A3', 'F1', 'E5',\n",
              "       'B3', 'F4', 'G1', 'F5', 'E1', 'E2', 'D5', 'G2', 'E4', 'A1', 'G3',\n",
              "       'E3', 'G4'], dtype=object)"
            ]
          },
          "metadata": {},
          "execution_count": 29
        }
      ]
    },
    {
      "cell_type": "markdown",
      "source": [
        "'Grade'와 'SubGrade'를 사용하여 두 categorical feature를 하나의 numerical feature로 통합한 'FinalGrade' 열을 생성합니다. 'FinalGrade' 열은 다음과 같은 규칙으로 생성됩니다. <br>\n",
        "* 'Grade'는 A부터 G까지 7까지의 등급을 가지고 있습니다. 'Grade'가 A로 시작하면 700, B로 시작하면 600, ..., G로 시작하면 100을 부여합니다.\n",
        "* 'SubGrade'는 A부터 G까지 7까지의 등급을 가지고 있습니다. 'SubGrade'가 A로 시작하면 70, B로 시작하면 60, ..., G로 시작하면 10을 부여합니다. 'SubGrade'의 두 번째 자리(숫자 부분)를 앞에서 구한 정수값과 더한 값이 최종 'SubGrade'의 값입니다.\n",
        "* 'FinalGrade'는 각 'Grade'와 'SubGrade' 값을 더한 값입니다.\n",
        "* 예시) Grade: A, SubGrade: A4\n",
        "      A => 700, A4 => 70 + 4\n",
        "      Final Grade = 770"
      ],
      "metadata": {
        "id": "nIzU8K5VtQkX"
      }
    },
    {
      "cell_type": "markdown",
      "source": [
        "### 문제 4-1\n",
        "주어진 list num과 label, di를 사용하여 'SubGrade' 값을 정수로 바꾸는 ```def subGradeEncoder```를 구현하고 코드와 셀 실행 결과를 모두 캡처하여 보고서에 첨부하세요."
      ],
      "metadata": {
        "id": "YC_eXpEdyedl"
      }
    },
    {
      "cell_type": "code",
      "source": [
        "num = [10, 20, 30, 40, 50, 60, 70]\n",
        "label = ['G', 'F', 'E', 'D', 'C', 'B', 'A']\n",
        "di = dict(zip(label, num))\n",
        "\n",
        "ten = []\n",
        "one = []\n",
        "\n",
        "def subGradeEncoder(data, di):\n",
        "  result = []\n",
        "  ################ 문제 4-1 ##################\n",
        "  # 소스코드를 입력하고 캡처 후 보고서에 업로드하세요.\n",
        "  # 코드 시작과 코드 끝 라인을 삭제하지 마세요.\n",
        "  ################ 코드 시작  ################\n",
        "  \n",
        "  \n",
        "  #result = [di[e] for e in data['SubGrade'].astype(str).str[0]]\n",
        "  tens = [di[e] for e in data['SubGrade'].astype(str).str[0]]\n",
        "  ones = [e for e in data['SubGrade'].astype(str).str[1].astype(int)]\n",
        "  \n",
        "  result = [ones[i] + tens[i] for i in range(len(ones))]\n",
        "  #반복문을 통해 subgrade값의 첫번째 문자를 추출해 딕셔너리로 변환한 값을 tens list에 넣었다\n",
        "  #반복문을 통해 subgrade값의 두번째 문자를 추출해 string을 int로 변환후 변환한 값을 one list에 넣었다\n",
        "  #반복문을 통해 tens값에 ones 값을 더한 값을 result에 저장 후 반환했다\n",
        "  ################ 코드 끝  ##################\n",
        "  return result\n",
        "\n",
        "data['SubGrade'] = subGradeEncoder(data, di)\n",
        "print(data['SubGrade'])\n"
      ],
      "metadata": {
        "id": "wjAf2oOqvsrp",
        "colab": {
          "base_uri": "https://localhost:8080/"
        },
        "outputId": "c43d8cbc-db55-442a-9493-d093a39fd1be"
      },
      "execution_count": 30,
      "outputs": [
        {
          "output_type": "stream",
          "name": "stdout",
          "text": [
            "0        54\n",
            "1        43\n",
            "2        44\n",
            "3        53\n",
            "4        44\n",
            "         ..\n",
            "67458    74\n",
            "67459    63\n",
            "67460    23\n",
            "67461    33\n",
            "67462    41\n",
            "Name: SubGrade, Length: 66612, dtype: int64\n"
          ]
        }
      ]
    },
    {
      "cell_type": "markdown",
      "source": [
        "### 문제 4-2\n",
        "주어진 list num과 label, di를 사용하여 'Grade' 값을 정수로 바꾸는 ```def gradeEncoder```를 구현하고 코드와 셀 실행 결과를 모두 캡처하여 보고서에 첨부하세요."
      ],
      "metadata": {
        "id": "bRChqSc_yyB8"
      }
    },
    {
      "cell_type": "code",
      "source": [
        "num = [100, 200, 300, 400, 500, 600, 700]\n",
        "label = ['G', 'F', 'E', 'D', 'C', 'B', 'A']\n",
        "di = dict(zip(label, num))\n",
        "\n",
        "def gradeEncoder(data, di):\n",
        "  result = []\n",
        "  ################ 문제 4-2 ##################\n",
        "  # 소스코드를 입력하고 캡처 후 보고서에 업로드하세요.\n",
        "  # 코드 시작과 코드 끝 라인을 삭제하지 마세요.\n",
        "  ################ 코드 시작  ################\n",
        "  \n",
        "  result = [di[e] for e in data['Grade']]\n",
        "  #반복문을 통해 grade값의 문자를 추출해 딕셔너리로 변환한 값을 result list에 넣었다\n",
        "  ################ 코드 끝  ##################\n",
        "  return result\n",
        "\n",
        "data['Grade'] = gradeEncoder(data, di)\n",
        "#result = gradeEncoder(data, di)\n",
        "print(data['Grade'])\n",
        "#print(result)"
      ],
      "metadata": {
        "id": "p4TTeuHWxe9M",
        "colab": {
          "base_uri": "https://localhost:8080/"
        },
        "outputId": "5663e9f6-1ad3-4f9c-8acb-fa333edf3c5a"
      },
      "execution_count": 31,
      "outputs": [
        {
          "output_type": "stream",
          "name": "stdout",
          "text": [
            "0        600\n",
            "1        500\n",
            "2        200\n",
            "3        500\n",
            "4        500\n",
            "        ... \n",
            "67458    500\n",
            "67459    500\n",
            "67460    700\n",
            "67461    400\n",
            "67462    600\n",
            "Name: Grade, Length: 66612, dtype: int64\n"
          ]
        }
      ]
    },
    {
      "cell_type": "markdown",
      "source": [
        "### 문제 4-3\n",
        "'Sub Grade' 열의 값과 'Grade' 값을 합하여 최종적인 'Grade' 값을 담은 ```Final Grade```라는 열을 생성하고 코드와 셀 실행 결과를 모두 캡처하여 보고서에 첨부하세요."
      ],
      "metadata": {
        "id": "0juLQab7zCF7"
      }
    },
    {
      "cell_type": "code",
      "source": [
        "### 문제 4-3 ###\n",
        "# 소스코드를 입력하고 캡처 후 보고서에 업로드하세요.\n",
        "# 코드 시작과 코드 끝 라인을 삭제하지 마세요.\n",
        "### 코드 시작 ##\n",
        "\n",
        "data['FinalGrade'] = data['Grade'] + data['SubGrade']\n",
        "#final grade값은 grade값과 subgrade값을 더한 값이다\n",
        "################\n",
        "print(data['FinalGrade'])\n"
      ],
      "metadata": {
        "id": "0KwjcVbezXDb",
        "colab": {
          "base_uri": "https://localhost:8080/"
        },
        "outputId": "43ef2fbc-1064-4927-9409-5a97c86a125d"
      },
      "execution_count": 32,
      "outputs": [
        {
          "output_type": "stream",
          "name": "stdout",
          "text": [
            "0        654\n",
            "1        543\n",
            "2        244\n",
            "3        553\n",
            "4        544\n",
            "        ... \n",
            "67458    574\n",
            "67459    563\n",
            "67460    723\n",
            "67461    433\n",
            "67462    641\n",
            "Name: FinalGrade, Length: 66612, dtype: int64\n"
          ]
        }
      ]
    },
    {
      "cell_type": "code",
      "source": [
        "data = data.drop(labels = ['Grade', 'SubGrade'], axis=1)"
      ],
      "metadata": {
        "id": "b41995Z2VT7s"
      },
      "execution_count": 33,
      "outputs": []
    },
    {
      "cell_type": "markdown",
      "source": [
        "## 문제 5\n",
        "문제 5 는 보고서에 출제되어있습니다. 보고서에 답안을 작성해주세요."
      ],
      "metadata": {
        "id": "WKkKBoDTO2L0"
      }
    },
    {
      "cell_type": "code",
      "source": [],
      "metadata": {
        "id": "PGaOeZt7NA-O"
      },
      "execution_count": 33,
      "outputs": []
    }
  ],
  "metadata": {
    "kernelspec": {
      "display_name": "Python 3 (ipykernel)",
      "language": "python",
      "name": "python3"
    },
    "language_info": {
      "codemirror_mode": {
        "name": "ipython",
        "version": 3
      },
      "file_extension": ".py",
      "mimetype": "text/x-python",
      "name": "python",
      "nbconvert_exporter": "python",
      "pygments_lexer": "ipython3",
      "version": "3.9.13"
    },
    "colab": {
      "provenance": [],
      "include_colab_link": true
    }
  },
  "nbformat": 4,
  "nbformat_minor": 0
}